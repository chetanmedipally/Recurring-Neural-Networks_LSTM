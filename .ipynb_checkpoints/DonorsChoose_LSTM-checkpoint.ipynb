{
 "cells": [
  {
   "cell_type": "markdown",
   "metadata": {
    "colab_type": "text",
    "id": "-Ab-X-IrCyl0"
   },
   "source": [
    "# DonorsChoose"
   ]
  },
  {
   "cell_type": "markdown",
   "metadata": {
    "colab_type": "text",
    "id": "etNpzy7rCyl2"
   },
   "source": [
    "<p>\n",
    "DonorsChoose.org receives hundreds of thousands of project proposals each year for classroom projects in need of funding. Right now, a large number of volunteers is needed to manually screen each submission before it's approved to be posted on the DonorsChoose.org website.\n",
    "</p>\n",
    "<p>\n",
    "    Next year, DonorsChoose.org expects to receive close to 500,000 project proposals. As a result, there are three main problems they need to solve:\n",
    "<ul>\n",
    "<li>\n",
    "    How to scale current manual processes and resources to screen 500,000 projects so that they can be posted as quickly and as efficiently as possible</li>\n",
    "    <li>How to increase the consistency of project vetting across different volunteers to improve the experience for teachers</li>\n",
    "    <li>How to focus volunteer time on the applications that need the most assistance</li>\n",
    "    </ul>\n",
    "</p>    \n",
    "<p>\n",
    "The goal of the competition is to predict whether or not a DonorsChoose.org project proposal submitted by a teacher will be approved, using the text of project descriptions as well as additional metadata about the project, teacher, and school. DonorsChoose.org can then use this information to identify projects most likely to need further review before approval.\n",
    "</p>"
   ]
  },
  {
   "cell_type": "markdown",
   "metadata": {
    "colab_type": "text",
    "id": "kO2Kg7TgCyl4"
   },
   "source": [
    "## About the DonorsChoose Data Set\n",
    "\n",
    "The `train.csv` data set provided by DonorsChoose contains the following features:\n",
    "\n",
    "Feature | Description \n",
    "----------|---------------\n",
    "**`project_id`** | A unique identifier for the proposed project. **Example:** `p036502`   \n",
    "**`project_title`**    | Title of the project. **Examples:**<br><ul><li><code>Art Will Make You Happy!</code></li><li><code>First Grade Fun</code></li></ul> \n",
    "**`project_grade_category`** | Grade level of students for which the project is targeted. One of the following enumerated values: <br/><ul><li><code>Grades PreK-2</code></li><li><code>Grades 3-5</code></li><li><code>Grades 6-8</code></li><li><code>Grades 9-12</code></li></ul>  \n",
    " **`project_subject_categories`** | One or more (comma-separated) subject categories for the project from the following enumerated list of values:  <br/><ul><li><code>Applied Learning</code></li><li><code>Care &amp; Hunger</code></li><li><code>Health &amp; Sports</code></li><li><code>History &amp; Civics</code></li><li><code>Literacy &amp; Language</code></li><li><code>Math &amp; Science</code></li><li><code>Music &amp; The Arts</code></li><li><code>Special Needs</code></li><li><code>Warmth</code></li></ul><br/> **Examples:** <br/><ul><li><code>Music &amp; The Arts</code></li><li><code>Literacy &amp; Language, Math &amp; Science</code></li>  \n",
    "  **`school_state`** | State where school is located ([Two-letter U.S. postal code](https://en.wikipedia.org/wiki/List_of_U.S._state_abbreviations#Postal_codes)). **Example:** `WY`\n",
    "**`project_subject_subcategories`** | One or more (comma-separated) subject subcategories for the project. **Examples:** <br/><ul><li><code>Literacy</code></li><li><code>Literature &amp; Writing, Social Sciences</code></li></ul> \n",
    "**`project_resource_summary`** | An explanation of the resources needed for the project. **Example:** <br/><ul><li><code>My students need hands on literacy materials to manage sensory needs!</code</li></ul> \n",
    "**`project_essay_1`**    | First application essay<sup>*</sup>  \n",
    "**`project_essay_2`**    | Second application essay<sup>*</sup> \n",
    "**`project_essay_3`**    | Third application essay<sup>*</sup> \n",
    "**`project_essay_4`**    | Fourth application essay<sup>*</sup> \n",
    "**`project_submitted_datetime`** | Datetime when project application was submitted. **Example:** `2016-04-28 12:43:56.245`   \n",
    "**`teacher_id`** | A unique identifier for the teacher of the proposed project. **Example:** `bdf8baa8fedef6bfeec7ae4ff1c15c56`  \n",
    "**`teacher_prefix`** | Teacher's title. One of the following enumerated values: <br/><ul><li><code>nan</code></li><li><code>Dr.</code></li><li><code>Mr.</code></li><li><code>Mrs.</code></li><li><code>Ms.</code></li><li><code>Teacher.</code></li></ul>  \n",
    "**`teacher_number_of_previously_posted_projects`** | Number of project applications previously submitted by the same teacher. **Example:** `2` \n",
    "\n",
    "<sup>*</sup> See the section <b>Notes on the Essay Data</b> for more details about these features.\n",
    "\n",
    "Additionally, the `resources.csv` data set provides more data about the resources required for each project. Each line in this file represents a resource required by a project:\n",
    "\n",
    "Feature | Description \n",
    "----------|---------------\n",
    "**`id`** | A `project_id` value from the `train.csv` file.  **Example:** `p036502`   \n",
    "**`description`** | Desciption of the resource. **Example:** `Tenor Saxophone Reeds, Box of 25`   \n",
    "**`quantity`** | Quantity of the resource required. **Example:** `3`   \n",
    "**`price`** | Price of the resource required. **Example:** `9.95`   \n",
    "\n",
    "**Note:** Many projects require multiple resources. The `id` value corresponds to a `project_id` in train.csv, so you use it as a key to retrieve all resources needed for a project:\n",
    "\n",
    "The data set contains the following label (the value you will attempt to predict):\n",
    "\n",
    "Label | Description\n",
    "----------|---------------\n",
    "`project_is_approved` | A binary flag indicating whether DonorsChoose approved the project. A value of `0` indicates the project was not approved, and a value of `1` indicates the project was approved."
   ]
  },
  {
   "cell_type": "markdown",
   "metadata": {
    "colab_type": "text",
    "id": "dBGA_YStCyl6"
   },
   "source": [
    "### Notes on the Essay Data\n",
    "\n",
    "<ul>\n",
    "Prior to May 17, 2016, the prompts for the essays were as follows:\n",
    "<li>__project_essay_1:__ \"Introduce us to your classroom\"</li>\n",
    "<li>__project_essay_2:__ \"Tell us more about your students\"</li>\n",
    "<li>__project_essay_3:__ \"Describe how your students will use the materials you're requesting\"</li>\n",
    "<li>__project_essay_3:__ \"Close by sharing why your project will make a difference\"</li>\n",
    "</ul>\n",
    "\n",
    "\n",
    "<ul>\n",
    "Starting on May 17, 2016, the number of essays was reduced from 4 to 2, and the prompts for the first 2 essays were changed to the following:<br>\n",
    "<li>__project_essay_1:__ \"Describe your students: What makes your students special? Specific details about their background, your neighborhood, and your school are all helpful.\"</li>\n",
    "<li>__project_essay_2:__ \"About your project: How will these materials make a difference in your students' learning and improve their school lives?\"</li>\n",
    "<br>For all projects with project_submitted_datetime of 2016-05-17 and later, the values of project_essay_3 and project_essay_4 will be NaN.\n",
    "</ul>\n"
   ]
  },
  {
   "cell_type": "code",
   "execution_count": 127,
   "metadata": {
    "colab": {},
    "colab_type": "code",
    "id": "XTrCJ5p9Cyl7",
    "outputId": "06c35f2f-d281-4345-9668-f8f44b28d6ac"
   },
   "outputs": [],
   "source": [
    "%matplotlib inline\n",
    "import warnings\n",
    "warnings.filterwarnings(\"ignore\")\n",
    "warnings.simplefilter(\"ignore\")\n",
    "warnings.warn(\"ignore\")\n",
    "import sqlite3\n",
    "import pandas as pd\n",
    "import numpy as np\n",
    "import nltk\n",
    "import string\n",
    "import matplotlib.pyplot as plt\n",
    "import seaborn as sns\n",
    "from sklearn.feature_extraction.text import TfidfTransformer\n",
    "from sklearn.feature_extraction.text import TfidfVectorizer\n",
    "\n",
    "from sklearn.feature_extraction.text import CountVectorizer\n",
    "from sklearn.metrics import confusion_matrix\n",
    "from sklearn import metrics\n",
    "from sklearn import model_selection\n",
    "from sklearn.metrics import roc_curve, auc\n",
    "from nltk.stem.porter import PorterStemmer\n",
    "\n",
    "import re\n",
    "# Tutorial about Python regular expressions: https://pymotw.com/2/re/\n",
    "import string\n",
    "from nltk.corpus import stopwords\n",
    "from nltk.stem import PorterStemmer\n",
    "from nltk.stem.wordnet import WordNetLemmatizer\n",
    "\n",
    "from gensim.models import Word2Vec\n",
    "from gensim.models import KeyedVectors\n",
    "import pickle\n",
    "\n",
    "from tqdm import tqdm\n",
    "import os"
   ]
  },
  {
   "cell_type": "code",
   "execution_count": 128,
   "metadata": {},
   "outputs": [],
   "source": [
    "from sklearn.metrics import accuracy_score\n",
    "from sklearn.metrics import roc_auc_score\n",
    "from sklearn.metrics import roc_curve, auc\n",
    "from sklearn import preprocessing"
   ]
  },
  {
   "cell_type": "code",
   "execution_count": 129,
   "metadata": {},
   "outputs": [],
   "source": [
    "from keras.preprocessing.text import one_hot\n",
    "from keras.preprocessing.sequence import pad_sequences\n",
    "from keras.models import Sequential\n",
    "from keras.layers.core import Activation, Dropout, Dense ,Reshape\n",
    "from keras.layers import Flatten, LSTM,Lambda\n",
    "from keras.models import Model\n",
    "from keras.layers.embeddings import Embedding\n",
    "from keras.preprocessing.text import Tokenizer\n",
    "from keras.layers import Input\n",
    "from keras.layers import Concatenate\n",
    "from keras.utils import to_categorical\n",
    "from keras.layers import Conv1D, MaxPooling1D"
   ]
  },
  {
   "cell_type": "markdown",
   "metadata": {
    "colab_type": "text",
    "id": "MjknLZQqCymQ"
   },
   "source": [
    "## 1.1 Reading Data"
   ]
  },
  {
   "cell_type": "code",
   "execution_count": 130,
   "metadata": {},
   "outputs": [],
   "source": [
    "#https://stackabuse.com/python-for-nlp-creating-multi-data-type-classification-models-with-keras/\n",
    "#https://www.pyimagesearch.com/2019/01/21/regression-with-keras/\n",
    "#https://github.com/mmortazavi/EntityEmbedding-Working_Example/blob/master/EntityEmbedding.ipynb\n",
    "#https://www.pyimagesearch.com/2019/02/04/keras-multiple-inputs-and-mixed-data/\n",
    "#https://machinelearningmastery.com/cnn-models-for-human-activity-recognition-time-series-classification/"
   ]
  },
  {
   "cell_type": "code",
   "execution_count": 131,
   "metadata": {
    "colab": {},
    "colab_type": "code",
    "id": "abtcqBS8CymT"
   },
   "outputs": [],
   "source": [
    "preprocessed_data = pd.read_csv('preprocessed_data.csv')"
   ]
  },
  {
   "cell_type": "code",
   "execution_count": 132,
   "metadata": {
    "scrolled": true
   },
   "outputs": [
    {
     "name": "stdout",
     "output_type": "stream",
     "text": [
      "Number of data points in preprocessed data (109248, 9)\n"
     ]
    }
   ],
   "source": [
    "print(\"Number of data points in preprocessed data\", preprocessed_data.shape)"
   ]
  },
  {
   "cell_type": "code",
   "execution_count": 133,
   "metadata": {
    "scrolled": false
   },
   "outputs": [
    {
     "data": {
      "text/html": [
       "<div>\n",
       "<style scoped>\n",
       "    .dataframe tbody tr th:only-of-type {\n",
       "        vertical-align: middle;\n",
       "    }\n",
       "\n",
       "    .dataframe tbody tr th {\n",
       "        vertical-align: top;\n",
       "    }\n",
       "\n",
       "    .dataframe thead th {\n",
       "        text-align: right;\n",
       "    }\n",
       "</style>\n",
       "<table border=\"1\" class=\"dataframe\">\n",
       "  <thead>\n",
       "    <tr style=\"text-align: right;\">\n",
       "      <th></th>\n",
       "      <th>school_state</th>\n",
       "      <th>teacher_prefix</th>\n",
       "      <th>project_grade_category</th>\n",
       "      <th>teacher_number_of_previously_posted_projects</th>\n",
       "      <th>project_is_approved</th>\n",
       "      <th>clean_categories</th>\n",
       "      <th>clean_subcategories</th>\n",
       "      <th>essay</th>\n",
       "      <th>price</th>\n",
       "    </tr>\n",
       "  </thead>\n",
       "  <tbody>\n",
       "    <tr>\n",
       "      <th>37724</th>\n",
       "      <td>va</td>\n",
       "      <td>ms</td>\n",
       "      <td>grades_3_5</td>\n",
       "      <td>7</td>\n",
       "      <td>1</td>\n",
       "      <td>literacy_language</td>\n",
       "      <td>literacy</td>\n",
       "      <td>i teacher loves reading my goal instill life l...</td>\n",
       "      <td>5.25</td>\n",
       "    </tr>\n",
       "    <tr>\n",
       "      <th>72978</th>\n",
       "      <td>wi</td>\n",
       "      <td>ms</td>\n",
       "      <td>grades_prek_2</td>\n",
       "      <td>1</td>\n",
       "      <td>0</td>\n",
       "      <td>literacy_language</td>\n",
       "      <td>esl literacy</td>\n",
       "      <td>my students full energy they rush classroom ev...</td>\n",
       "      <td>52.05</td>\n",
       "    </tr>\n",
       "    <tr>\n",
       "      <th>36676</th>\n",
       "      <td>ca</td>\n",
       "      <td>ms</td>\n",
       "      <td>grades_3_5</td>\n",
       "      <td>0</td>\n",
       "      <td>1</td>\n",
       "      <td>health_sports math_science</td>\n",
       "      <td>gym_fitness health_lifescience</td>\n",
       "      <td>i multiethnic classroom 25 diverse learners di...</td>\n",
       "      <td>298.13</td>\n",
       "    </tr>\n",
       "    <tr>\n",
       "      <th>67124</th>\n",
       "      <td>id</td>\n",
       "      <td>mrs</td>\n",
       "      <td>grades_3_5</td>\n",
       "      <td>21</td>\n",
       "      <td>1</td>\n",
       "      <td>math_science music_arts</td>\n",
       "      <td>appliedsciences visualarts</td>\n",
       "      <td>i proud teach school howe idaho rural beautifu...</td>\n",
       "      <td>499.00</td>\n",
       "    </tr>\n",
       "    <tr>\n",
       "      <th>94330</th>\n",
       "      <td>ms</td>\n",
       "      <td>mr</td>\n",
       "      <td>grades_9_12</td>\n",
       "      <td>4</td>\n",
       "      <td>1</td>\n",
       "      <td>health_sports</td>\n",
       "      <td>health_wellness teamsports</td>\n",
       "      <td>my student athletes motivated work hard class ...</td>\n",
       "      <td>150.95</td>\n",
       "    </tr>\n",
       "  </tbody>\n",
       "</table>\n",
       "</div>"
      ],
      "text/plain": [
       "      school_state teacher_prefix project_grade_category  \\\n",
       "37724           va             ms             grades_3_5   \n",
       "72978           wi             ms          grades_prek_2   \n",
       "36676           ca             ms             grades_3_5   \n",
       "67124           id            mrs             grades_3_5   \n",
       "94330           ms             mr            grades_9_12   \n",
       "\n",
       "       teacher_number_of_previously_posted_projects  project_is_approved  \\\n",
       "37724                                             7                    1   \n",
       "72978                                             1                    0   \n",
       "36676                                             0                    1   \n",
       "67124                                            21                    1   \n",
       "94330                                             4                    1   \n",
       "\n",
       "                 clean_categories             clean_subcategories  \\\n",
       "37724           literacy_language                        literacy   \n",
       "72978           literacy_language                    esl literacy   \n",
       "36676  health_sports math_science  gym_fitness health_lifescience   \n",
       "67124     math_science music_arts      appliedsciences visualarts   \n",
       "94330               health_sports      health_wellness teamsports   \n",
       "\n",
       "                                                   essay   price  \n",
       "37724  i teacher loves reading my goal instill life l...    5.25  \n",
       "72978  my students full energy they rush classroom ev...   52.05  \n",
       "36676  i multiethnic classroom 25 diverse learners di...  298.13  \n",
       "67124  i proud teach school howe idaho rural beautifu...  499.00  \n",
       "94330  my student athletes motivated work hard class ...  150.95  "
      ]
     },
     "execution_count": 133,
     "metadata": {},
     "output_type": "execute_result"
    }
   ],
   "source": [
    "preprocessed_data=preprocessed_data.sample(n=50000)\n",
    "preprocessed_data.head()"
   ]
  },
  {
   "cell_type": "code",
   "execution_count": 134,
   "metadata": {},
   "outputs": [],
   "source": [
    "X=preprocessed_data.drop(columns=['project_is_approved'],axis=1)\n",
    "y=preprocessed_data['project_is_approved']"
   ]
  },
  {
   "cell_type": "code",
   "execution_count": 135,
   "metadata": {},
   "outputs": [],
   "source": [
    "label_encoder = preprocessing.LabelEncoder()\n",
    "y = label_encoder.fit_transform(y)"
   ]
  },
  {
   "cell_type": "code",
   "execution_count": 136,
   "metadata": {},
   "outputs": [],
   "source": [
    "X_1, X_test, y_1, y_test = model_selection.train_test_split(X, y, test_size=0.2, random_state=0,stratify=y)\n",
    "\n",
    "# split the train data set into cross validation train and cross validation test\n",
    "X_train, X_cv, y_train, y_cv = model_selection.train_test_split(X_1, y_1, test_size=0.2, random_state=0,stratify=y_1)"
   ]
  },
  {
   "cell_type": "code",
   "execution_count": 137,
   "metadata": {},
   "outputs": [],
   "source": [
    "y_train = to_categorical(y_train)\n",
    "y_cv   = to_categorical(y_cv)\n",
    "y_test = to_categorical(y_test)"
   ]
  },
  {
   "cell_type": "code",
   "execution_count": 138,
   "metadata": {},
   "outputs": [],
   "source": [
    "tokenizer = Tokenizer()\n",
    "tokenizer.fit_on_texts(X_train['essay'].values)\n",
    "\n",
    "X1_tr = np.array(tokenizer.texts_to_sequences(X_train['essay'].values))\n",
    "X1_cv = np.array(tokenizer.texts_to_sequences(X_cv['essay'].values))\n",
    "X1_test = np.array(tokenizer.texts_to_sequences(X_test['essay'].values))"
   ]
  },
  {
   "cell_type": "code",
   "execution_count": 139,
   "metadata": {},
   "outputs": [],
   "source": [
    "vocab_size = len(tokenizer.word_index) + 1\n",
    "\n",
    "maxlen = 200\n",
    "\n",
    "X1_tr = pad_sequences(X1_tr, padding='post', maxlen=maxlen)\n",
    "X1_cv = pad_sequences(X1_cv, padding='post', maxlen=maxlen)\n",
    "X1_test = pad_sequences(X1_test, padding='post', maxlen=maxlen)"
   ]
  },
  {
   "cell_type": "code",
   "execution_count": 140,
   "metadata": {},
   "outputs": [
    {
     "name": "stdout",
     "output_type": "stream",
     "text": [
      "(32000, 200)\n",
      "(8000, 200)\n",
      "(10000, 200)\n"
     ]
    }
   ],
   "source": [
    "print(X1_tr.shape)\n",
    "print(X1_cv.shape)\n",
    "print(X1_test.shape)"
   ]
  },
  {
   "cell_type": "code",
   "execution_count": 141,
   "metadata": {},
   "outputs": [],
   "source": [
    "with open('glove_vectors', 'rb') as f:\n",
    "    model = pickle.load(f)\n",
    "    glove_words =  set(model.keys())"
   ]
  },
  {
   "cell_type": "code",
   "execution_count": 142,
   "metadata": {},
   "outputs": [],
   "source": [
    "embeddings_dictionary = dict()\n",
    "for word in glove_words:\n",
    "    vector_dimensions = model[word]\n",
    "    embeddings_dictionary [word] = vector_dimensions"
   ]
  },
  {
   "cell_type": "code",
   "execution_count": 143,
   "metadata": {},
   "outputs": [],
   "source": [
    "embedding_matrix = np.zeros((vocab_size, 300))\n",
    "for word, index in tokenizer.word_index.items():\n",
    "    embedding_vector = embeddings_dictionary.get(word)\n",
    "    if embedding_vector is not None:\n",
    "        embedding_matrix[index] = embedding_vector"
   ]
  },
  {
   "cell_type": "code",
   "execution_count": 144,
   "metadata": {
    "scrolled": true
   },
   "outputs": [
    {
     "data": {
      "text/plain": [
       "(35006, 300)"
      ]
     },
     "execution_count": 144,
     "metadata": {},
     "output_type": "execute_result"
    }
   ],
   "source": [
    "embedding_matrix.shape"
   ]
  },
  {
   "cell_type": "code",
   "execution_count": 145,
   "metadata": {},
   "outputs": [
    {
     "name": "stdout",
     "output_type": "stream",
     "text": [
      "(?, 200)\n",
      "(?, 200, 300)\n",
      "(?, ?, 128)\n",
      "(?, ?)\n"
     ]
    }
   ],
   "source": [
    "input_1 = Input(shape=(maxlen,),name='essay_input')\n",
    "print(input_1.shape)\n",
    "input_1_embedding = Embedding(vocab_size, 300, weights=[embedding_matrix], trainable=False )(input_1)\n",
    "print(input_1_embedding.shape)\n",
    "input_1_lstm = LSTM(128,return_sequences=True)(input_1_embedding)\n",
    "print(input_1_lstm.shape)\n",
    "input_1_flatten=Flatten()(input_1_lstm)\n",
    "print(input_1_flatten.shape)"
   ]
  },
  {
   "cell_type": "code",
   "execution_count": 146,
   "metadata": {},
   "outputs": [],
   "source": [
    "categoricals=['school_state','teacher_prefix','project_grade_category','clean_categories','clean_subcategories']\n",
    "numericals=['teacher_number_of_previously_posted_projects','price']"
   ]
  },
  {
   "cell_type": "code",
   "execution_count": 147,
   "metadata": {},
   "outputs": [
    {
     "name": "stdout",
     "output_type": "stream",
     "text": [
      "school_state 51\n",
      "teacher_prefix 5\n",
      "project_grade_category 4\n",
      "clean_categories 49\n",
      "clean_subcategories 358\n"
     ]
    }
   ],
   "source": [
    "embed_cols=[i for i in X_train[categoricals]]\n",
    "\n",
    "for i in embed_cols:\n",
    "    print(i,X_train[i].nunique())"
   ]
  },
  {
   "cell_type": "code",
   "execution_count": 148,
   "metadata": {},
   "outputs": [],
   "source": [
    "from sklearn.feature_extraction.text import CountVectorizer\n"
   ]
  },
  {
   "cell_type": "code",
   "execution_count": 149,
   "metadata": {},
   "outputs": [
    {
     "name": "stdout",
     "output_type": "stream",
     "text": [
      "(?, 51)\n",
      "(?, 51, 26)\n",
      "(?, ?)\n"
     ]
    }
   ],
   "source": [
    "vectorizer = CountVectorizer()\n",
    "X2_tr = vectorizer.fit_transform(X_train['school_state'].values).toarray()\n",
    "X2_cv = vectorizer.transform(X_cv['school_state'].values).toarray()\n",
    "X2_test = vectorizer.transform(X_test['school_state'].values).toarray()\n",
    "cat_emb_name= 'school_state_Embedding'\n",
    "no_of_unique_cat  = X_train['school_state'].nunique()\n",
    "embedding_size = int(min(np.ceil((no_of_unique_cat)/2), 50 ))\n",
    "input_2 = Input(shape=(X2_tr.shape[1],),name='school_state_input')\n",
    "print(input_2.shape)\n",
    "input_2_embedding = Embedding(no_of_unique_cat, embedding_size,input_length=X2_tr.shape[1], name=cat_emb_name)(input_2)\n",
    "print(input_2_embedding.shape)\n",
    "input_2_flatten=Flatten()(input_2_embedding)\n",
    "print(input_2_flatten.shape)"
   ]
  },
  {
   "cell_type": "code",
   "execution_count": 150,
   "metadata": {},
   "outputs": [
    {
     "name": "stdout",
     "output_type": "stream",
     "text": [
      "(32000, 51)\n",
      "(8000, 51)\n",
      "(10000, 51)\n"
     ]
    }
   ],
   "source": [
    "print(X2_tr.shape)\n",
    "print(X2_cv.shape)\n",
    "print(X2_test.shape)"
   ]
  },
  {
   "cell_type": "code",
   "execution_count": 151,
   "metadata": {},
   "outputs": [
    {
     "name": "stdout",
     "output_type": "stream",
     "text": [
      "(?, 5)\n",
      "(?, 5, 3)\n",
      "(?, ?)\n"
     ]
    }
   ],
   "source": [
    "vectorizer = CountVectorizer()\n",
    "X3_tr = vectorizer.fit_transform(X_train['teacher_prefix'].values.astype('U')).toarray()\n",
    "X3_cv = vectorizer.transform(X_cv['teacher_prefix'].values.astype('U')).toarray()\n",
    "X3_test = vectorizer.transform(X_test['teacher_prefix'].values.astype('U')).toarray()\n",
    "cat_emb_name= 'teacher_prefix_Embedding'\n",
    "no_of_unique_cat  = X_train['teacher_prefix'].nunique()\n",
    "embedding_size = int(min(np.ceil((no_of_unique_cat)/2), 50 ))\n",
    "input_3 = Input(shape=(X3_tr.shape[1],),name='teacher_prefix_input')\n",
    "print(input_3.shape)\n",
    "input_3_embedding = Embedding(no_of_unique_cat, embedding_size,input_length=X3_tr.shape[1], name=cat_emb_name)(input_3)\n",
    "print(input_3_embedding.shape)\n",
    "input_3_flatten=Flatten()(input_3_embedding)\n",
    "print(input_3_flatten.shape)"
   ]
  },
  {
   "cell_type": "code",
   "execution_count": 152,
   "metadata": {},
   "outputs": [
    {
     "name": "stdout",
     "output_type": "stream",
     "text": [
      "(32000, 5)\n",
      "(8000, 5)\n",
      "(10000, 5)\n"
     ]
    }
   ],
   "source": [
    "print(X3_tr.shape)\n",
    "print(X3_cv.shape)\n",
    "print(X3_test.shape)"
   ]
  },
  {
   "cell_type": "code",
   "execution_count": 153,
   "metadata": {},
   "outputs": [
    {
     "name": "stdout",
     "output_type": "stream",
     "text": [
      "(?, 4)\n",
      "(?, 4, 2)\n",
      "(?, ?)\n"
     ]
    }
   ],
   "source": [
    "vectorizer = CountVectorizer()\n",
    "X4_tr = vectorizer.fit_transform(X_train['project_grade_category'].values).toarray()\n",
    "X4_cv = vectorizer.transform(X_cv['project_grade_category'].values).toarray()\n",
    "X4_test = vectorizer.transform(X_test['project_grade_category'].values).toarray()\n",
    "cat_emb_name= 'project_grade_category_Embedding'\n",
    "no_of_unique_cat  = X_train['project_grade_category'].nunique()\n",
    "embedding_size = int(min(np.ceil((no_of_unique_cat)/2), 50 ))\n",
    "input_4 = Input(shape=(X4_tr.shape[1],),name='project_grade_category_input')\n",
    "print(input_4.shape)\n",
    "input_4_embedding = Embedding(no_of_unique_cat, embedding_size,input_length=X4_tr.shape[1],name=cat_emb_name)(input_4)\n",
    "print(input_4_embedding.shape)\n",
    "input_4_flatten=Flatten()(input_4_embedding)\n",
    "print(input_4_flatten.shape)"
   ]
  },
  {
   "cell_type": "code",
   "execution_count": 154,
   "metadata": {},
   "outputs": [
    {
     "name": "stdout",
     "output_type": "stream",
     "text": [
      "(32000, 4)\n",
      "(8000, 4)\n",
      "(10000, 4)\n"
     ]
    }
   ],
   "source": [
    "print(X4_tr.shape)\n",
    "print(X4_cv.shape)\n",
    "print(X4_test.shape)"
   ]
  },
  {
   "cell_type": "code",
   "execution_count": 155,
   "metadata": {},
   "outputs": [
    {
     "name": "stdout",
     "output_type": "stream",
     "text": [
      "(?, 9)\n",
      "(?, 9, 25)\n",
      "(?, ?)\n"
     ]
    }
   ],
   "source": [
    "vectorizer = CountVectorizer()\n",
    "X5_tr = vectorizer.fit_transform(X_train['clean_categories'].values).toarray()\n",
    "X5_cv = vectorizer.transform(X_cv['clean_categories'].values).toarray()\n",
    "X5_test = vectorizer.transform(X_test['clean_categories'].values).toarray()\n",
    "cat_emb_name= 'clean_categories_Embedding'\n",
    "no_of_unique_cat  = X_train['clean_categories'].nunique()\n",
    "embedding_size = int(min(np.ceil((no_of_unique_cat)/2), 50 ))\n",
    "input_5 = Input(shape=(X5_tr.shape[1],),name='clean_categories_input')\n",
    "print(input_5.shape)\n",
    "input_5_embedding = Embedding(no_of_unique_cat, embedding_size,input_length=X5_tr.shape[1], name=cat_emb_name)(input_5)\n",
    "print(input_5_embedding.shape)\n",
    "input_5_flatten=Flatten()(input_5_embedding)\n",
    "print(input_5_flatten.shape)"
   ]
  },
  {
   "cell_type": "code",
   "execution_count": 156,
   "metadata": {},
   "outputs": [
    {
     "name": "stdout",
     "output_type": "stream",
     "text": [
      "(32000, 9)\n",
      "(8000, 9)\n",
      "(10000, 9)\n"
     ]
    }
   ],
   "source": [
    "print(X5_tr.shape)\n",
    "print(X5_cv.shape)\n",
    "print(X5_test.shape)"
   ]
  },
  {
   "cell_type": "code",
   "execution_count": 157,
   "metadata": {},
   "outputs": [
    {
     "name": "stdout",
     "output_type": "stream",
     "text": [
      "(?, 30)\n",
      "(?, 30, 50)\n",
      "(?, ?)\n"
     ]
    }
   ],
   "source": [
    "vectorizer = CountVectorizer()\n",
    "X6_tr = vectorizer.fit_transform(X_train['clean_subcategories'].values).toarray()\n",
    "X6_cv = vectorizer.transform(X_cv['clean_subcategories'].values).toarray()\n",
    "X6_test = vectorizer.transform(X_test['clean_subcategories'].values).toarray()\n",
    "cat_emb_name= 'clean_subcategories_Embedding'\n",
    "no_of_unique_cat  = X_train['clean_subcategories'].nunique()\n",
    "embedding_size = int(min(np.ceil((no_of_unique_cat)/2), 50 ))\n",
    "input_6 = Input(shape=(X6_tr.shape[1],),name='clean_subcategories_input')\n",
    "print(input_6.shape)\n",
    "input_6_embedding = Embedding(no_of_unique_cat, embedding_size,input_length=X6_tr.shape[1], name=cat_emb_name)(input_6)\n",
    "print(input_6_embedding.shape)\n",
    "input_6_flatten=Flatten()(input_6_embedding)\n",
    "print(input_6_flatten.shape)"
   ]
  },
  {
   "cell_type": "code",
   "execution_count": 158,
   "metadata": {},
   "outputs": [
    {
     "name": "stdout",
     "output_type": "stream",
     "text": [
      "(32000, 30)\n",
      "(8000, 30)\n",
      "(10000, 30)\n"
     ]
    }
   ],
   "source": [
    "print(X6_tr.shape)\n",
    "print(X6_cv.shape)\n",
    "print(X6_test.shape)"
   ]
  },
  {
   "cell_type": "code",
   "execution_count": 159,
   "metadata": {
    "scrolled": true
   },
   "outputs": [
    {
     "name": "stdout",
     "output_type": "stream",
     "text": [
      "(?, 2)\n",
      "(?, 128)\n"
     ]
    }
   ],
   "source": [
    "X7_tr = preprocessing.normalize(X_train[['teacher_number_of_previously_posted_projects', 'price']]) \n",
    "X7_cv = preprocessing.normalize(X_cv[['teacher_number_of_previously_posted_projects', 'price']])\n",
    "X7_test = preprocessing.normalize(X_test[['teacher_number_of_previously_posted_projects', 'price']])\n",
    "input_7 = Input(shape=(len(X_train[numericals].columns),),name='numerical_input')\n",
    "print(input_7.shape)\n",
    "input_7_dense = Dense(128)(input_7)\n",
    "print(input_7_dense.shape)"
   ]
  },
  {
   "cell_type": "code",
   "execution_count": 160,
   "metadata": {},
   "outputs": [
    {
     "name": "stdout",
     "output_type": "stream",
     "text": [
      "(32000, 2)\n",
      "(8000, 2)\n",
      "(10000, 2)\n"
     ]
    }
   ],
   "source": [
    "print(X7_tr.shape)\n",
    "print(X7_cv.shape)\n",
    "print(X7_test.shape)"
   ]
  },
  {
   "cell_type": "code",
   "execution_count": 161,
   "metadata": {},
   "outputs": [],
   "source": [
    "#At the end we concatenate altogther and add other Dense layers\n",
    "output_1 = Concatenate()([input_1_flatten,input_2_flatten,input_3_flatten,input_4_flatten,input_5_flatten,input_6_flatten,input_7_dense])\n",
    "output_1 = Dense(256,activation='relu')(output_1)\n",
    "output_1= Dropout(0.4)(output_1)\n",
    "output_1 = Dense(128,activation='relu')(output_1)\n",
    "output_1= Dropout(0.3)(output_1)\n",
    "output_1 = Dense(64,activation='relu')(output_1)\n",
    "output_1 = Dense(2, activation='softmax')(output_1)"
   ]
  },
  {
   "cell_type": "code",
   "execution_count": 162,
   "metadata": {},
   "outputs": [],
   "source": [
    "#https://stackoverflow.com/questions/41032551/how-to-compute-receiving-operating-characteristic-roc-and-auc-in-keras\n",
    "import tensorflow as tf\n",
    "def auroc(y_true, y_pred):\n",
    "    return tf.py_func(roc_auc_score, (y_true, y_pred), tf.double)"
   ]
  },
  {
   "cell_type": "code",
   "execution_count": 163,
   "metadata": {},
   "outputs": [
    {
     "name": "stdout",
     "output_type": "stream",
     "text": [
      "__________________________________________________________________________________________________\n",
      "Layer (type)                    Output Shape         Param #     Connected to                     \n",
      "==================================================================================================\n",
      "essay_input (InputLayer)        (None, 200)          0                                            \n",
      "__________________________________________________________________________________________________\n",
      "embedding_4 (Embedding)         (None, 200, 300)     10501800    essay_input[0][0]                \n",
      "__________________________________________________________________________________________________\n",
      "school_state_input (InputLayer) (None, 51)           0                                            \n",
      "__________________________________________________________________________________________________\n",
      "teacher_prefix_input (InputLaye (None, 5)            0                                            \n",
      "__________________________________________________________________________________________________\n",
      "project_grade_category_input (I (None, 4)            0                                            \n",
      "__________________________________________________________________________________________________\n",
      "clean_categories_input (InputLa (None, 9)            0                                            \n",
      "__________________________________________________________________________________________________\n",
      "clean_subcategories_input (Inpu (None, 30)           0                                            \n",
      "__________________________________________________________________________________________________\n",
      "lstm_4 (LSTM)                   (None, 200, 128)     219648      embedding_4[0][0]                \n",
      "__________________________________________________________________________________________________\n",
      "school_state_Embedding (Embeddi (None, 51, 26)       1326        school_state_input[0][0]         \n",
      "__________________________________________________________________________________________________\n",
      "teacher_prefix_Embedding (Embed (None, 5, 3)         15          teacher_prefix_input[0][0]       \n",
      "__________________________________________________________________________________________________\n",
      "project_grade_category_Embeddin (None, 4, 2)         8           project_grade_category_input[0][0\n",
      "__________________________________________________________________________________________________\n",
      "clean_categories_Embedding (Emb (None, 9, 25)        1225        clean_categories_input[0][0]     \n",
      "__________________________________________________________________________________________________\n",
      "clean_subcategories_Embedding ( (None, 30, 50)       17900       clean_subcategories_input[0][0]  \n",
      "__________________________________________________________________________________________________\n",
      "numerical_input (InputLayer)    (None, 2)            0                                            \n",
      "__________________________________________________________________________________________________\n",
      "flatten_19 (Flatten)            (None, 25600)        0           lstm_4[0][0]                     \n",
      "__________________________________________________________________________________________________\n",
      "flatten_20 (Flatten)            (None, 1326)         0           school_state_Embedding[0][0]     \n",
      "__________________________________________________________________________________________________\n",
      "flatten_21 (Flatten)            (None, 15)           0           teacher_prefix_Embedding[0][0]   \n",
      "__________________________________________________________________________________________________\n",
      "flatten_22 (Flatten)            (None, 8)            0           project_grade_category_Embedding[\n",
      "__________________________________________________________________________________________________\n",
      "flatten_23 (Flatten)            (None, 225)          0           clean_categories_Embedding[0][0] \n",
      "__________________________________________________________________________________________________\n",
      "flatten_24 (Flatten)            (None, 1500)         0           clean_subcategories_Embedding[0][\n",
      "__________________________________________________________________________________________________\n",
      "dense_16 (Dense)                (None, 128)          384         numerical_input[0][0]            \n",
      "__________________________________________________________________________________________________\n",
      "concatenate_4 (Concatenate)     (None, 28802)        0           flatten_19[0][0]                 \n",
      "                                                                 flatten_20[0][0]                 \n",
      "                                                                 flatten_21[0][0]                 \n",
      "                                                                 flatten_22[0][0]                 \n",
      "                                                                 flatten_23[0][0]                 \n",
      "                                                                 flatten_24[0][0]                 \n",
      "                                                                 dense_16[0][0]                   \n",
      "__________________________________________________________________________________________________\n",
      "dense_17 (Dense)                (None, 256)          7373568     concatenate_4[0][0]              \n",
      "__________________________________________________________________________________________________\n",
      "dropout_7 (Dropout)             (None, 256)          0           dense_17[0][0]                   \n",
      "__________________________________________________________________________________________________\n",
      "dense_18 (Dense)                (None, 128)          32896       dropout_7[0][0]                  \n",
      "__________________________________________________________________________________________________\n",
      "dropout_8 (Dropout)             (None, 128)          0           dense_18[0][0]                   \n",
      "__________________________________________________________________________________________________\n",
      "dense_19 (Dense)                (None, 64)           8256        dropout_8[0][0]                  \n",
      "__________________________________________________________________________________________________\n",
      "dense_20 (Dense)                (None, 2)            130         dense_19[0][0]                   \n",
      "==================================================================================================\n",
      "Total params: 18,157,156\n",
      "Trainable params: 7,655,356\n",
      "Non-trainable params: 10,501,800\n",
      "__________________________________________________________________________________________________\n"
     ]
    }
   ],
   "source": [
    "from keras import optimizers\n",
    "model = Model(inputs=[input_1,input_2,input_3,input_4,input_5,input_6,input_7], outputs=output_1)\n",
    "model.compile(loss='binary_crossentropy', optimizer=optimizers.SGD(lr=0.01, decay=1e-6, momentum=0.9) ,metrics=[auroc])\n",
    "model.summary()"
   ]
  },
  {
   "cell_type": "code",
   "execution_count": 164,
   "metadata": {},
   "outputs": [],
   "source": [
    "from keras.utils import plot_model\n",
    "plot_model(model, to_file='model_1.png', show_shapes=True, show_layer_names=True)"
   ]
  },
  {
   "cell_type": "code",
   "execution_count": 165,
   "metadata": {
    "scrolled": false
   },
   "outputs": [
    {
     "name": "stdout",
     "output_type": "stream",
     "text": [
      "Train on 32000 samples, validate on 8000 samples\n",
      "Epoch 1/12\n",
      " - 276s - loss: 0.4458 - auroc: 0.5305 - val_loss: 0.4192 - val_auroc: 0.6000\n",
      "Epoch 2/12\n",
      " - 287s - loss: 0.4240 - auroc: 0.5657 - val_loss: 0.4161 - val_auroc: 0.6398\n",
      "Epoch 3/12\n",
      " - 299s - loss: 0.4151 - auroc: 0.6188 - val_loss: 0.4056 - val_auroc: 0.6764\n",
      "Epoch 4/12\n",
      " - 269s - loss: 0.4064 - auroc: 0.6655 - val_loss: 0.3972 - val_auroc: 0.6960\n",
      "Epoch 5/12\n",
      " - 262s - loss: 0.4008 - auroc: 0.6865 - val_loss: 0.3926 - val_auroc: 0.7061\n",
      "Epoch 6/12\n",
      " - 269s - loss: 0.3982 - auroc: 0.6996 - val_loss: 0.3996 - val_auroc: 0.7081\n",
      "Epoch 7/12\n",
      " - 268s - loss: 0.3927 - auroc: 0.7138 - val_loss: 0.3940 - val_auroc: 0.7126\n",
      "Epoch 8/12\n",
      " - 264s - loss: 0.3856 - auroc: 0.7304 - val_loss: 0.3886 - val_auroc: 0.7146\n",
      "Epoch 9/12\n",
      " - 292s - loss: 0.3790 - auroc: 0.7439 - val_loss: 0.3904 - val_auroc: 0.7135\n",
      "Epoch 10/12\n",
      " - 277s - loss: 0.3713 - auroc: 0.7633 - val_loss: 0.3907 - val_auroc: 0.7133\n",
      "Epoch 11/12\n",
      " - 247s - loss: 0.3619 - auroc: 0.7859 - val_loss: 0.3906 - val_auroc: 0.7098\n",
      "Epoch 12/12\n",
      " - 251s - loss: 0.3525 - auroc: 0.8066 - val_loss: 0.4074 - val_auroc: 0.6866\n"
     ]
    }
   ],
   "source": [
    "history = model.fit(x=[X1_tr,X2_tr,X3_tr,X4_tr, X5_tr, X6_tr,X7_tr], y=y_train, validation_data=([X1_cv,X2_cv,X3_cv,X4_cv, X5_cv, X6_cv,X7_cv],y_cv),epochs=12,batch_size=500,verbose=2)"
   ]
  },
  {
   "cell_type": "code",
   "execution_count": 166,
   "metadata": {
    "scrolled": false
   },
   "outputs": [
    {
     "ename": "InvalidArgumentError",
     "evalue": "ValueError: Only one class present in y_true. ROC AUC score is not defined in that case.\nTraceback (most recent call last):\n\n  File \"C:\\Users\\mchetankumar\\AppData\\Local\\Continuum\\anaconda3\\envs\\TaxiEnv\\lib\\site-packages\\tensorflow\\python\\ops\\script_ops.py\", line 207, in __call__\n    ret = func(*args)\n\n  File \"C:\\Users\\mchetankumar\\AppData\\Local\\Continuum\\anaconda3\\envs\\TaxiEnv\\lib\\site-packages\\sklearn\\metrics\\ranking.py\", line 355, in roc_auc_score\n    sample_weight=sample_weight)\n\n  File \"C:\\Users\\mchetankumar\\AppData\\Local\\Continuum\\anaconda3\\envs\\TaxiEnv\\lib\\site-packages\\sklearn\\metrics\\base.py\", line 119, in _average_binary_score\n    sample_weight=score_weight)\n\n  File \"C:\\Users\\mchetankumar\\AppData\\Local\\Continuum\\anaconda3\\envs\\TaxiEnv\\lib\\site-packages\\sklearn\\metrics\\ranking.py\", line 323, in _binary_roc_auc_score\n    raise ValueError(\"Only one class present in y_true. ROC AUC score \"\n\nValueError: Only one class present in y_true. ROC AUC score is not defined in that case.\n\n\n\t [[{{node metrics_4/auroc/PyFunc}}]]",
     "output_type": "error",
     "traceback": [
      "\u001b[1;31m---------------------------------------------------------------------------\u001b[0m",
      "\u001b[1;31mInvalidArgumentError\u001b[0m                      Traceback (most recent call last)",
      "\u001b[1;32m<ipython-input-166-ff74d3118ca9>\u001b[0m in \u001b[0;36m<module>\u001b[1;34m\u001b[0m\n\u001b[1;32m----> 1\u001b[1;33m \u001b[0mscore\u001b[0m \u001b[1;33m=\u001b[0m \u001b[0mmodel\u001b[0m\u001b[1;33m.\u001b[0m\u001b[0mevaluate\u001b[0m\u001b[1;33m(\u001b[0m\u001b[0mx\u001b[0m\u001b[1;33m=\u001b[0m\u001b[1;33m[\u001b[0m\u001b[0mX1_test\u001b[0m\u001b[1;33m,\u001b[0m\u001b[0mX2_test\u001b[0m\u001b[1;33m,\u001b[0m\u001b[0mX3_test\u001b[0m\u001b[1;33m,\u001b[0m\u001b[0mX4_test\u001b[0m\u001b[1;33m,\u001b[0m \u001b[0mX5_test\u001b[0m\u001b[1;33m,\u001b[0m \u001b[0mX6_test\u001b[0m\u001b[1;33m,\u001b[0m \u001b[0mX7_test\u001b[0m\u001b[1;33m]\u001b[0m\u001b[1;33m,\u001b[0m \u001b[0my\u001b[0m\u001b[1;33m=\u001b[0m\u001b[0my_test\u001b[0m\u001b[1;33m,\u001b[0m \u001b[0mverbose\u001b[0m\u001b[1;33m=\u001b[0m\u001b[1;36m2\u001b[0m\u001b[1;33m)\u001b[0m\u001b[1;33m\u001b[0m\u001b[1;33m\u001b[0m\u001b[0m\n\u001b[0m",
      "\u001b[1;32m~\\AppData\\Local\\Continuum\\anaconda3\\envs\\TaxiEnv\\lib\\site-packages\\keras\\engine\\training.py\u001b[0m in \u001b[0;36mevaluate\u001b[1;34m(self, x, y, batch_size, verbose, sample_weight, steps)\u001b[0m\n\u001b[0;32m   1111\u001b[0m                                          \u001b[0mbatch_size\u001b[0m\u001b[1;33m=\u001b[0m\u001b[0mbatch_size\u001b[0m\u001b[1;33m,\u001b[0m\u001b[1;33m\u001b[0m\u001b[1;33m\u001b[0m\u001b[0m\n\u001b[0;32m   1112\u001b[0m                                          \u001b[0mverbose\u001b[0m\u001b[1;33m=\u001b[0m\u001b[0mverbose\u001b[0m\u001b[1;33m,\u001b[0m\u001b[1;33m\u001b[0m\u001b[1;33m\u001b[0m\u001b[0m\n\u001b[1;32m-> 1113\u001b[1;33m                                          steps=steps)\n\u001b[0m\u001b[0;32m   1114\u001b[0m \u001b[1;33m\u001b[0m\u001b[0m\n\u001b[0;32m   1115\u001b[0m     def predict(self, x,\n",
      "\u001b[1;32m~\\AppData\\Local\\Continuum\\anaconda3\\envs\\TaxiEnv\\lib\\site-packages\\keras\\engine\\training_arrays.py\u001b[0m in \u001b[0;36mtest_loop\u001b[1;34m(model, f, ins, batch_size, verbose, steps)\u001b[0m\n\u001b[0;32m    390\u001b[0m                 \u001b[0mins_batch\u001b[0m\u001b[1;33m[\u001b[0m\u001b[0mi\u001b[0m\u001b[1;33m]\u001b[0m \u001b[1;33m=\u001b[0m \u001b[0mins_batch\u001b[0m\u001b[1;33m[\u001b[0m\u001b[0mi\u001b[0m\u001b[1;33m]\u001b[0m\u001b[1;33m.\u001b[0m\u001b[0mtoarray\u001b[0m\u001b[1;33m(\u001b[0m\u001b[1;33m)\u001b[0m\u001b[1;33m\u001b[0m\u001b[1;33m\u001b[0m\u001b[0m\n\u001b[0;32m    391\u001b[0m \u001b[1;33m\u001b[0m\u001b[0m\n\u001b[1;32m--> 392\u001b[1;33m             \u001b[0mbatch_outs\u001b[0m \u001b[1;33m=\u001b[0m \u001b[0mf\u001b[0m\u001b[1;33m(\u001b[0m\u001b[0mins_batch\u001b[0m\u001b[1;33m)\u001b[0m\u001b[1;33m\u001b[0m\u001b[1;33m\u001b[0m\u001b[0m\n\u001b[0m\u001b[0;32m    393\u001b[0m             \u001b[1;32mif\u001b[0m \u001b[0misinstance\u001b[0m\u001b[1;33m(\u001b[0m\u001b[0mbatch_outs\u001b[0m\u001b[1;33m,\u001b[0m \u001b[0mlist\u001b[0m\u001b[1;33m)\u001b[0m\u001b[1;33m:\u001b[0m\u001b[1;33m\u001b[0m\u001b[1;33m\u001b[0m\u001b[0m\n\u001b[0;32m    394\u001b[0m                 \u001b[1;32mif\u001b[0m \u001b[0mbatch_index\u001b[0m \u001b[1;33m==\u001b[0m \u001b[1;36m0\u001b[0m\u001b[1;33m:\u001b[0m\u001b[1;33m\u001b[0m\u001b[1;33m\u001b[0m\u001b[0m\n",
      "\u001b[1;32m~\\AppData\\Local\\Continuum\\anaconda3\\envs\\TaxiEnv\\lib\\site-packages\\keras\\backend\\tensorflow_backend.py\u001b[0m in \u001b[0;36m__call__\u001b[1;34m(self, inputs)\u001b[0m\n\u001b[0;32m   2713\u001b[0m                 \u001b[1;32mreturn\u001b[0m \u001b[0mself\u001b[0m\u001b[1;33m.\u001b[0m\u001b[0m_legacy_call\u001b[0m\u001b[1;33m(\u001b[0m\u001b[0minputs\u001b[0m\u001b[1;33m)\u001b[0m\u001b[1;33m\u001b[0m\u001b[1;33m\u001b[0m\u001b[0m\n\u001b[0;32m   2714\u001b[0m \u001b[1;33m\u001b[0m\u001b[0m\n\u001b[1;32m-> 2715\u001b[1;33m             \u001b[1;32mreturn\u001b[0m \u001b[0mself\u001b[0m\u001b[1;33m.\u001b[0m\u001b[0m_call\u001b[0m\u001b[1;33m(\u001b[0m\u001b[0minputs\u001b[0m\u001b[1;33m)\u001b[0m\u001b[1;33m\u001b[0m\u001b[1;33m\u001b[0m\u001b[0m\n\u001b[0m\u001b[0;32m   2716\u001b[0m         \u001b[1;32melse\u001b[0m\u001b[1;33m:\u001b[0m\u001b[1;33m\u001b[0m\u001b[1;33m\u001b[0m\u001b[0m\n\u001b[0;32m   2717\u001b[0m             \u001b[1;32mif\u001b[0m \u001b[0mpy_any\u001b[0m\u001b[1;33m(\u001b[0m\u001b[0mis_tensor\u001b[0m\u001b[1;33m(\u001b[0m\u001b[0mx\u001b[0m\u001b[1;33m)\u001b[0m \u001b[1;32mfor\u001b[0m \u001b[0mx\u001b[0m \u001b[1;32min\u001b[0m \u001b[0minputs\u001b[0m\u001b[1;33m)\u001b[0m\u001b[1;33m:\u001b[0m\u001b[1;33m\u001b[0m\u001b[1;33m\u001b[0m\u001b[0m\n",
      "\u001b[1;32m~\\AppData\\Local\\Continuum\\anaconda3\\envs\\TaxiEnv\\lib\\site-packages\\keras\\backend\\tensorflow_backend.py\u001b[0m in \u001b[0;36m_call\u001b[1;34m(self, inputs)\u001b[0m\n\u001b[0;32m   2673\u001b[0m             \u001b[0mfetched\u001b[0m \u001b[1;33m=\u001b[0m \u001b[0mself\u001b[0m\u001b[1;33m.\u001b[0m\u001b[0m_callable_fn\u001b[0m\u001b[1;33m(\u001b[0m\u001b[1;33m*\u001b[0m\u001b[0marray_vals\u001b[0m\u001b[1;33m,\u001b[0m \u001b[0mrun_metadata\u001b[0m\u001b[1;33m=\u001b[0m\u001b[0mself\u001b[0m\u001b[1;33m.\u001b[0m\u001b[0mrun_metadata\u001b[0m\u001b[1;33m)\u001b[0m\u001b[1;33m\u001b[0m\u001b[1;33m\u001b[0m\u001b[0m\n\u001b[0;32m   2674\u001b[0m         \u001b[1;32melse\u001b[0m\u001b[1;33m:\u001b[0m\u001b[1;33m\u001b[0m\u001b[1;33m\u001b[0m\u001b[0m\n\u001b[1;32m-> 2675\u001b[1;33m             \u001b[0mfetched\u001b[0m \u001b[1;33m=\u001b[0m \u001b[0mself\u001b[0m\u001b[1;33m.\u001b[0m\u001b[0m_callable_fn\u001b[0m\u001b[1;33m(\u001b[0m\u001b[1;33m*\u001b[0m\u001b[0marray_vals\u001b[0m\u001b[1;33m)\u001b[0m\u001b[1;33m\u001b[0m\u001b[1;33m\u001b[0m\u001b[0m\n\u001b[0m\u001b[0;32m   2676\u001b[0m         \u001b[1;32mreturn\u001b[0m \u001b[0mfetched\u001b[0m\u001b[1;33m[\u001b[0m\u001b[1;33m:\u001b[0m\u001b[0mlen\u001b[0m\u001b[1;33m(\u001b[0m\u001b[0mself\u001b[0m\u001b[1;33m.\u001b[0m\u001b[0moutputs\u001b[0m\u001b[1;33m)\u001b[0m\u001b[1;33m]\u001b[0m\u001b[1;33m\u001b[0m\u001b[1;33m\u001b[0m\u001b[0m\n\u001b[0;32m   2677\u001b[0m \u001b[1;33m\u001b[0m\u001b[0m\n",
      "\u001b[1;32m~\\AppData\\Local\\Continuum\\anaconda3\\envs\\TaxiEnv\\lib\\site-packages\\tensorflow\\python\\client\\session.py\u001b[0m in \u001b[0;36m__call__\u001b[1;34m(self, *args, **kwargs)\u001b[0m\n\u001b[0;32m   1437\u001b[0m           ret = tf_session.TF_SessionRunCallable(\n\u001b[0;32m   1438\u001b[0m               \u001b[0mself\u001b[0m\u001b[1;33m.\u001b[0m\u001b[0m_session\u001b[0m\u001b[1;33m.\u001b[0m\u001b[0m_session\u001b[0m\u001b[1;33m,\u001b[0m \u001b[0mself\u001b[0m\u001b[1;33m.\u001b[0m\u001b[0m_handle\u001b[0m\u001b[1;33m,\u001b[0m \u001b[0margs\u001b[0m\u001b[1;33m,\u001b[0m \u001b[0mstatus\u001b[0m\u001b[1;33m,\u001b[0m\u001b[1;33m\u001b[0m\u001b[1;33m\u001b[0m\u001b[0m\n\u001b[1;32m-> 1439\u001b[1;33m               run_metadata_ptr)\n\u001b[0m\u001b[0;32m   1440\u001b[0m         \u001b[1;32mif\u001b[0m \u001b[0mrun_metadata\u001b[0m\u001b[1;33m:\u001b[0m\u001b[1;33m\u001b[0m\u001b[1;33m\u001b[0m\u001b[0m\n\u001b[0;32m   1441\u001b[0m           \u001b[0mproto_data\u001b[0m \u001b[1;33m=\u001b[0m \u001b[0mtf_session\u001b[0m\u001b[1;33m.\u001b[0m\u001b[0mTF_GetBuffer\u001b[0m\u001b[1;33m(\u001b[0m\u001b[0mrun_metadata_ptr\u001b[0m\u001b[1;33m)\u001b[0m\u001b[1;33m\u001b[0m\u001b[1;33m\u001b[0m\u001b[0m\n",
      "\u001b[1;32m~\\AppData\\Local\\Continuum\\anaconda3\\envs\\TaxiEnv\\lib\\site-packages\\tensorflow\\python\\framework\\errors_impl.py\u001b[0m in \u001b[0;36m__exit__\u001b[1;34m(self, type_arg, value_arg, traceback_arg)\u001b[0m\n\u001b[0;32m    526\u001b[0m             \u001b[1;32mNone\u001b[0m\u001b[1;33m,\u001b[0m \u001b[1;32mNone\u001b[0m\u001b[1;33m,\u001b[0m\u001b[1;33m\u001b[0m\u001b[1;33m\u001b[0m\u001b[0m\n\u001b[0;32m    527\u001b[0m             \u001b[0mcompat\u001b[0m\u001b[1;33m.\u001b[0m\u001b[0mas_text\u001b[0m\u001b[1;33m(\u001b[0m\u001b[0mc_api\u001b[0m\u001b[1;33m.\u001b[0m\u001b[0mTF_Message\u001b[0m\u001b[1;33m(\u001b[0m\u001b[0mself\u001b[0m\u001b[1;33m.\u001b[0m\u001b[0mstatus\u001b[0m\u001b[1;33m.\u001b[0m\u001b[0mstatus\u001b[0m\u001b[1;33m)\u001b[0m\u001b[1;33m)\u001b[0m\u001b[1;33m,\u001b[0m\u001b[1;33m\u001b[0m\u001b[1;33m\u001b[0m\u001b[0m\n\u001b[1;32m--> 528\u001b[1;33m             c_api.TF_GetCode(self.status.status))\n\u001b[0m\u001b[0;32m    529\u001b[0m     \u001b[1;31m# Delete the underlying status object from memory otherwise it stays alive\u001b[0m\u001b[1;33m\u001b[0m\u001b[1;33m\u001b[0m\u001b[1;33m\u001b[0m\u001b[0m\n\u001b[0;32m    530\u001b[0m     \u001b[1;31m# as there is a reference to status from this from the traceback due to\u001b[0m\u001b[1;33m\u001b[0m\u001b[1;33m\u001b[0m\u001b[1;33m\u001b[0m\u001b[0m\n",
      "\u001b[1;31mInvalidArgumentError\u001b[0m: ValueError: Only one class present in y_true. ROC AUC score is not defined in that case.\nTraceback (most recent call last):\n\n  File \"C:\\Users\\mchetankumar\\AppData\\Local\\Continuum\\anaconda3\\envs\\TaxiEnv\\lib\\site-packages\\tensorflow\\python\\ops\\script_ops.py\", line 207, in __call__\n    ret = func(*args)\n\n  File \"C:\\Users\\mchetankumar\\AppData\\Local\\Continuum\\anaconda3\\envs\\TaxiEnv\\lib\\site-packages\\sklearn\\metrics\\ranking.py\", line 355, in roc_auc_score\n    sample_weight=sample_weight)\n\n  File \"C:\\Users\\mchetankumar\\AppData\\Local\\Continuum\\anaconda3\\envs\\TaxiEnv\\lib\\site-packages\\sklearn\\metrics\\base.py\", line 119, in _average_binary_score\n    sample_weight=score_weight)\n\n  File \"C:\\Users\\mchetankumar\\AppData\\Local\\Continuum\\anaconda3\\envs\\TaxiEnv\\lib\\site-packages\\sklearn\\metrics\\ranking.py\", line 323, in _binary_roc_auc_score\n    raise ValueError(\"Only one class present in y_true. ROC AUC score \"\n\nValueError: Only one class present in y_true. ROC AUC score is not defined in that case.\n\n\n\t [[{{node metrics_4/auroc/PyFunc}}]]"
     ]
    }
   ],
   "source": [
    "score = model.evaluate(x=[X1_test,X2_test,X3_test,X4_test, X5_test, X6_test, X7_test], y=y_test, verbose=2)"
   ]
  },
  {
   "cell_type": "code",
   "execution_count": 125,
   "metadata": {},
   "outputs": [
    {
     "name": "stdout",
     "output_type": "stream",
     "text": [
      "Test Loss: 0.4290419406890869\n",
      "Test AUC: 0.5962432282087967\n"
     ]
    }
   ],
   "source": [
    "print(\"Test Loss:\", score[0])\n",
    "print(\"Test AUC:\", score[1])"
   ]
  },
  {
   "cell_type": "code",
   "execution_count": 126,
   "metadata": {
    "scrolled": false
   },
   "outputs": [
    {
     "data": {
      "image/png": "[encoded data removed]",
      "text/plain": [
       "<Figure size 432x288 with 1 Axes>"
      ]
     },
     "metadata": {
      "needs_background": "light"
     },
     "output_type": "display_data"
    },
    {
     "data": {
      "image/png": "[encoded data removed]",
      "text/plain": [
       "<Figure size 432x288 with 1 Axes>"
      ]
     },
     "metadata": {
      "needs_background": "light"
     },
     "output_type": "display_data"
    }
   ],
   "source": [
    "plt.plot(history.history['auroc'])\n",
    "plt.plot(history.history['val_auroc'])\n",
    "\n",
    "plt.title('model auc')\n",
    "plt.ylabel('auc')\n",
    "plt.xlabel('epoch')\n",
    "plt.legend(['train','test'], loc='upper left')\n",
    "plt.show()\n",
    "\n",
    "plt.plot(history.history['loss'])\n",
    "plt.plot(history.history['val_loss'])\n",
    "\n",
    "plt.title('model loss')\n",
    "plt.ylabel('loss')\n",
    "plt.xlabel('epoch')\n",
    "plt.legend(['train','test'], loc='upper left')\n",
    "plt.show()"
   ]
  },
  {
   "cell_type": "code",
   "execution_count": 43,
   "metadata": {},
   "outputs": [
    {
     "name": "stdout",
     "output_type": "stream",
     "text": [
      "Saved model to disk\n"
     ]
    }
   ],
   "source": [
    "# serialize weights to HDF5\n",
    "model.save_weights(\"model_1.h5\")\n",
    "print(\"Saved model to disk\")"
   ]
  },
  {
   "cell_type": "markdown",
   "metadata": {},
   "source": [
    "## Model 2"
   ]
  },
  {
   "cell_type": "code",
   "execution_count": 44,
   "metadata": {},
   "outputs": [
    {
     "data": {
      "image/png": "[encoded data removed]",
      "text/plain": [
       "<Figure size 432x288 with 1 Axes>"
      ]
     },
     "metadata": {
      "needs_background": "light"
     },
     "output_type": "display_data"
    }
   ],
   "source": [
    "from sklearn.feature_extraction.text import TfidfVectorizer\n",
    "import seaborn as sns\n",
    "vectorizer = TfidfVectorizer()\n",
    "vectorizer.fit(X_train['essay'].values)\n",
    "plt.boxplot(list(vectorizer.idf_))\n",
    "plt.xlabel('Essay')\n",
    "plt.ylabel('IDF Value')\n",
    "plt.show()\n",
    "\n",
    "\n"
   ]
  },
  {
   "cell_type": "code",
   "execution_count": 45,
   "metadata": {},
   "outputs": [
    {
     "name": "stdout",
     "output_type": "stream",
     "text": [
      "5.793917593589882\n",
      "9.071062326582059\n"
     ]
    },
    {
     "data": {
      "text/plain": [
       "9784"
      ]
     },
     "execution_count": 45,
     "metadata": {},
     "output_type": "execute_result"
    }
   ],
   "source": [
    "tenth_percentile=np.quantile((vectorizer.idf_),0.10)\n",
    "ninty_percentile=np.quantile((vectorizer.idf_),0.90)\n",
    "print(tenth_percentile)\n",
    "print(ninty_percentile)\n",
    "dictionary = dict(zip(vectorizer.get_feature_names(), list(vectorizer.idf_)))\n",
    "filterred_words=[]\n",
    "for k,v in dictionary.items():\n",
    "    if v > tenth_percentile and v < ninty_percentile:\n",
    "        filterred_words.append(k)\n",
    "        \n",
    "len(filterred_words)"
   ]
  },
  {
   "cell_type": "code",
   "execution_count": 46,
   "metadata": {},
   "outputs": [],
   "source": [
    "tokenizer = Tokenizer()\n",
    "tokenizer.fit_on_texts(filterred_words)\n",
    "\n",
    "X8_tr = np.array(tokenizer.texts_to_sequences(X_train['essay'].values))\n",
    "X8_cv = np.array(tokenizer.texts_to_sequences(X_cv['essay'].values))\n",
    "X8_test = np.array(tokenizer.texts_to_sequences(X_test['essay'].values))"
   ]
  },
  {
   "cell_type": "code",
   "execution_count": 47,
   "metadata": {},
   "outputs": [],
   "source": [
    "vocab_size = len(tokenizer.word_index) + 1\n",
    "\n",
    "maxlen = 200\n",
    "\n",
    "X8_tr = pad_sequences(X8_tr, padding='post', maxlen=maxlen)\n",
    "X8_cv = pad_sequences(X8_cv, padding='post', maxlen=maxlen)\n",
    "X8_test = pad_sequences(X8_test, padding='post', maxlen=maxlen)"
   ]
  },
  {
   "cell_type": "code",
   "execution_count": 48,
   "metadata": {
    "scrolled": true
   },
   "outputs": [
    {
     "name": "stdout",
     "output_type": "stream",
     "text": [
      "(6400, 200)\n",
      "(1600, 200)\n",
      "(2000, 200)\n"
     ]
    }
   ],
   "source": [
    "print(X8_tr.shape)\n",
    "print(X8_cv.shape)\n",
    "print(X8_test.shape)"
   ]
  },
  {
   "cell_type": "code",
   "execution_count": 49,
   "metadata": {},
   "outputs": [],
   "source": [
    "with open('glove_vectors', 'rb') as f:\n",
    "    model = pickle.load(f)\n",
    "    glove_words =  set(model.keys())"
   ]
  },
  {
   "cell_type": "code",
   "execution_count": 50,
   "metadata": {},
   "outputs": [],
   "source": [
    "embeddings_dictionary = dict()\n",
    "for word in glove_words:\n",
    "    vector_dimensions = model[word]\n",
    "    embeddings_dictionary [word] = vector_dimensions"
   ]
  },
  {
   "cell_type": "code",
   "execution_count": 51,
   "metadata": {},
   "outputs": [],
   "source": [
    "embedding_matrix = np.zeros((vocab_size, 300))\n",
    "for word, index in tokenizer.word_index.items():\n",
    "    embedding_vector = embeddings_dictionary.get(word)\n",
    "    if embedding_vector is not None:\n",
    "        embedding_matrix[index] = embedding_vector"
   ]
  },
  {
   "cell_type": "code",
   "execution_count": 52,
   "metadata": {},
   "outputs": [
    {
     "data": {
      "text/plain": [
       "(9785, 300)"
      ]
     },
     "execution_count": 52,
     "metadata": {},
     "output_type": "execute_result"
    }
   ],
   "source": [
    "embedding_matrix.shape"
   ]
  },
  {
   "cell_type": "code",
   "execution_count": 53,
   "metadata": {},
   "outputs": [
    {
     "name": "stdout",
     "output_type": "stream",
     "text": [
      "(?, 200)\n",
      "(?, 200, 300)\n",
      "(?, ?, 128)\n",
      "(?, ?)\n"
     ]
    }
   ],
   "source": [
    "input_8 = Input(shape=(maxlen,),name='essay_tfidf_input')\n",
    "print(input_8.shape)\n",
    "input_8_embedding = Embedding(vocab_size, 300, weights=[embedding_matrix], trainable=False )(input_8)\n",
    "print(input_8_embedding.shape)\n",
    "input_8_lstm = LSTM(128,return_sequences=True)(input_8_embedding)\n",
    "print(input_8_lstm.shape)\n",
    "input_8_flatten=Flatten()(input_8_lstm)\n",
    "print(input_8_flatten.shape)"
   ]
  },
  {
   "cell_type": "code",
   "execution_count": 54,
   "metadata": {},
   "outputs": [],
   "source": [
    "#At the end we concatenate altogther and add other Dense layers\n",
    "output_2 = Concatenate()([input_8_flatten,input_2_flatten,input_3_flatten,input_4_flatten,input_5_flatten,input_6_flatten,input_7_dense])\n",
    "output_2 = Dense(256, kernel_initializer=\"uniform\",activation='relu')(output_2)\n",
    "output_2= Dropout(0.4)(output_2)\n",
    "output_2 = Dense(128, kernel_initializer=\"uniform\",activation='relu')(output_2)\n",
    "output_2= Dropout(0.3)(output_2)\n",
    "output_2 = Dense(64, kernel_initializer=\"uniform\", activation='relu')(output_2)\n",
    "output_2 = Dense(2, activation='softmax')(output_2)"
   ]
  },
  {
   "cell_type": "code",
   "execution_count": 55,
   "metadata": {
    "scrolled": false
   },
   "outputs": [
    {
     "name": "stdout",
     "output_type": "stream",
     "text": [
      "__________________________________________________________________________________________________\n",
      "Layer (type)                    Output Shape         Param #     Connected to                     \n",
      "==================================================================================================\n",
      "essay_tfidf_input (InputLayer)  (None, 200)          0                                            \n",
      "__________________________________________________________________________________________________\n",
      "embedding_2 (Embedding)         (None, 200, 300)     2935500     essay_tfidf_input[0][0]          \n",
      "__________________________________________________________________________________________________\n",
      "school_state_input (InputLayer) (None, 51)           0                                            \n",
      "__________________________________________________________________________________________________\n",
      "teacher_prefix_input (InputLaye (None, 4)            0                                            \n",
      "__________________________________________________________________________________________________\n",
      "project_grade_category_input (I (None, 4)            0                                            \n",
      "__________________________________________________________________________________________________\n",
      "clean_categories_input (InputLa (None, 9)            0                                            \n",
      "__________________________________________________________________________________________________\n",
      "clean_subcategories_input (Inpu (None, 30)           0                                            \n",
      "__________________________________________________________________________________________________\n",
      "lstm_2 (LSTM)                   (None, 200, 128)     219648      embedding_2[0][0]                \n",
      "__________________________________________________________________________________________________\n",
      "school_state_Embedding (Embeddi (None, 51, 26)       1326        school_state_input[0][0]         \n",
      "__________________________________________________________________________________________________\n",
      "teacher_prefix_Embedding (Embed (None, 4, 2)         8           teacher_prefix_input[0][0]       \n",
      "__________________________________________________________________________________________________\n",
      "project_grade_category_Embeddin (None, 4, 2)         8           project_grade_category_input[0][0\n",
      "__________________________________________________________________________________________________\n",
      "clean_categories_Embedding (Emb (None, 9, 24)        1128        clean_categories_input[0][0]     \n",
      "__________________________________________________________________________________________________\n",
      "clean_subcategories_Embedding ( (None, 30, 50)       13650       clean_subcategories_input[0][0]  \n",
      "__________________________________________________________________________________________________\n",
      "numerical_input (InputLayer)    (None, 2)            0                                            \n",
      "__________________________________________________________________________________________________\n",
      "flatten_7 (Flatten)             (None, 25600)        0           lstm_2[0][0]                     \n",
      "__________________________________________________________________________________________________\n",
      "flatten_2 (Flatten)             (None, 1326)         0           school_state_Embedding[0][0]     \n",
      "__________________________________________________________________________________________________\n",
      "flatten_3 (Flatten)             (None, 8)            0           teacher_prefix_Embedding[0][0]   \n",
      "__________________________________________________________________________________________________\n",
      "flatten_4 (Flatten)             (None, 8)            0           project_grade_category_Embedding[\n",
      "__________________________________________________________________________________________________\n",
      "flatten_5 (Flatten)             (None, 216)          0           clean_categories_Embedding[0][0] \n",
      "__________________________________________________________________________________________________\n",
      "flatten_6 (Flatten)             (None, 1500)         0           clean_subcategories_Embedding[0][\n",
      "__________________________________________________________________________________________________\n",
      "dense_1 (Dense)                 (None, 128)          384         numerical_input[0][0]            \n",
      "__________________________________________________________________________________________________\n",
      "concatenate_2 (Concatenate)     (None, 28786)        0           flatten_7[0][0]                  \n",
      "                                                                 flatten_2[0][0]                  \n",
      "                                                                 flatten_3[0][0]                  \n",
      "                                                                 flatten_4[0][0]                  \n",
      "                                                                 flatten_5[0][0]                  \n",
      "                                                                 flatten_6[0][0]                  \n",
      "                                                                 dense_1[0][0]                    \n",
      "__________________________________________________________________________________________________\n",
      "dense_6 (Dense)                 (None, 256)          7369472     concatenate_2[0][0]              \n",
      "__________________________________________________________________________________________________\n",
      "dropout_3 (Dropout)             (None, 256)          0           dense_6[0][0]                    \n",
      "__________________________________________________________________________________________________\n",
      "dense_7 (Dense)                 (None, 128)          32896       dropout_3[0][0]                  \n",
      "__________________________________________________________________________________________________\n",
      "dropout_4 (Dropout)             (None, 128)          0           dense_7[0][0]                    \n",
      "__________________________________________________________________________________________________\n",
      "dense_8 (Dense)                 (None, 64)           8256        dropout_4[0][0]                  \n",
      "__________________________________________________________________________________________________\n",
      "dense_9 (Dense)                 (None, 2)            130         dense_8[0][0]                    \n",
      "==================================================================================================\n",
      "Total params: 10,582,406\n",
      "Trainable params: 7,646,906\n",
      "Non-trainable params: 2,935,500\n",
      "__________________________________________________________________________________________________\n"
     ]
    }
   ],
   "source": [
    "model_2 = Model(inputs=[input_8,input_2,input_3,input_4,input_5,input_6,input_7], outputs=output_2)\n",
    "model_2.compile(loss='binary_crossentropy', optimizer=optimizers.Adam(lr=0.0001) ,metrics=[auroc])\n",
    "model_2.summary()"
   ]
  },
  {
   "cell_type": "code",
   "execution_count": 56,
   "metadata": {},
   "outputs": [],
   "source": [
    "plot_model(model_2, to_file='model_2.png', show_shapes=True, show_layer_names=True)"
   ]
  },
  {
   "cell_type": "code",
   "execution_count": 57,
   "metadata": {
    "scrolled": true
   },
   "outputs": [
    {
     "name": "stdout",
     "output_type": "stream",
     "text": [
      "Train on 6400 samples, validate on 1600 samples\n",
      "Epoch 1/2\n",
      " - 79s - loss: 0.5617 - auroc: 0.5345 - val_loss: 0.4228 - val_auroc: 0.5619\n",
      "Epoch 2/2\n",
      " - 74s - loss: 0.4290 - auroc: 0.5489 - val_loss: 0.4145 - val_auroc: 0.5728\n"
     ]
    }
   ],
   "source": [
    "history = model_2.fit(x=[X8_tr,X2_tr,X3_tr,X4_tr, X5_tr, X6_tr,X7_tr], y=y_train, validation_data=([X8_cv,X2_cv,X3_cv,X4_cv, X5_cv, X6_cv,X7_cv],y_cv),epochs=2,batch_size=300,verbose=2)"
   ]
  },
  {
   "cell_type": "code",
   "execution_count": 58,
   "metadata": {},
   "outputs": [],
   "source": [
    "score = model_2.evaluate(x=[X8_test,X2_test,X3_test,X4_test, X5_test, X6_test, X7_test], y=y_test, verbose=2)"
   ]
  },
  {
   "cell_type": "code",
   "execution_count": 59,
   "metadata": {},
   "outputs": [
    {
     "name": "stdout",
     "output_type": "stream",
     "text": [
      "Test Loss: 0.41790649604797364\n",
      "Test AUC: 0.5482413019110881\n"
     ]
    }
   ],
   "source": [
    "print(\"Test Loss:\", score[0])\n",
    "print(\"Test AUC:\", score[1])"
   ]
  },
  {
   "cell_type": "code",
   "execution_count": 60,
   "metadata": {
    "scrolled": false
   },
   "outputs": [
    {
     "data": {
      "image/png": "[encoded data removed]",
      "text/plain": [
       "<Figure size 432x288 with 1 Axes>"
      ]
     },
     "metadata": {
      "needs_background": "light"
     },
     "output_type": "display_data"
    },
    {
     "data": {
      "image/png": "[encoded data removed]",
      "text/plain": [
       "<Figure size 432x288 with 1 Axes>"
      ]
     },
     "metadata": {
      "needs_background": "light"
     },
     "output_type": "display_data"
    }
   ],
   "source": [
    "plt.plot(history.history['auroc'])\n",
    "plt.plot(history.history['val_auroc'])\n",
    "\n",
    "plt.title('model auc')\n",
    "plt.ylabel('auc')\n",
    "plt.xlabel('epoch')\n",
    "plt.legend(['train','test'], loc='upper left')\n",
    "plt.show()\n",
    "\n",
    "plt.plot(history.history['loss'])\n",
    "plt.plot(history.history['val_loss'])\n",
    "\n",
    "plt.title('model loss')\n",
    "plt.ylabel('loss')\n",
    "plt.xlabel('epoch')\n",
    "plt.legend(['train','test'], loc='upper left')\n",
    "plt.show()"
   ]
  },
  {
   "cell_type": "code",
   "execution_count": 61,
   "metadata": {},
   "outputs": [
    {
     "name": "stdout",
     "output_type": "stream",
     "text": [
      "Saved model to disk\n"
     ]
    }
   ],
   "source": [
    "# serialize weights to HDF5\n",
    "model_2.save_weights(\"model_2.h5\")\n",
    "print(\"Saved model to disk\")"
   ]
  },
  {
   "cell_type": "markdown",
   "metadata": {},
   "source": [
    "## Model 3"
   ]
  },
  {
   "cell_type": "code",
   "execution_count": 72,
   "metadata": {},
   "outputs": [
    {
     "name": "stdout",
     "output_type": "stream",
     "text": [
      "(6400, 1)\n",
      "(1600, 1)\n",
      "(2000, 1)\n"
     ]
    }
   ],
   "source": [
    "from sklearn.preprocessing import StandardScaler\n",
    "scalar = StandardScaler()\n",
    "X9_tr = scalar.fit_transform(X_train['price'].values.reshape(-1,1)) # finding the mean and standard deviation of this data\n",
    "X9_cv = scalar.transform(X_cv['price'].values.reshape(-1,1))\n",
    "X9_test = scalar.transform(X_test['price'].values.reshape(-1,1))\n",
    "print(X9_tr.shape)\n",
    "print(X9_cv.shape)\n",
    "print(X9_test.shape)"
   ]
  },
  {
   "cell_type": "code",
   "execution_count": 73,
   "metadata": {},
   "outputs": [
    {
     "name": "stdout",
     "output_type": "stream",
     "text": [
      "(6400, 1)\n",
      "(1600, 1)\n",
      "(2000, 1)\n"
     ]
    }
   ],
   "source": [
    "scalar = StandardScaler()\n",
    "X10_tr = scalar.fit_transform(X_train['teacher_number_of_previously_posted_projects'].values.reshape(-1, 1))\n",
    "X10_cv = scalar.transform(X_cv['teacher_number_of_previously_posted_projects'].values.reshape(-1, 1))\n",
    "X10_test = scalar.transform(X_test['teacher_number_of_previously_posted_projects'].values.reshape(-1, 1))\n",
    "print(X10_tr.shape)\n",
    "print(X10_cv.shape)\n",
    "print(X10_test.shape)"
   ]
  },
  {
   "cell_type": "code",
   "execution_count": 90,
   "metadata": {
    "scrolled": true
   },
   "outputs": [
    {
     "name": "stdout",
     "output_type": "stream",
     "text": [
      "(6400, 100)\n",
      "(1600, 100)\n",
      "(2000, 100)\n"
     ]
    }
   ],
   "source": [
    "numeric_tr = np.hstack((X2_tr,X3_tr,X4_tr,X5_tr,X6_tr,X9_tr,X10_tr))\n",
    "numeric_cv = np.hstack((X2_cv,X3_cv,X4_cv,X5_cv,X6_cv,X9_cv,X10_cv))\n",
    "numeric_test = np.hstack((X2_test,X3_test,X4_test,X5_test,X6_test,X9_test,X10_test))\n",
    "print(numeric_tr.shape)\n",
    "print(numeric_cv.shape)\n",
    "print(numeric_test.shape)"
   ]
  },
  {
   "cell_type": "code",
   "execution_count": 91,
   "metadata": {},
   "outputs": [
    {
     "name": "stdout",
     "output_type": "stream",
     "text": [
      "(6400, 100, 1)\n",
      "(1600, 100, 1)\n",
      "(2000, 100, 1)\n"
     ]
    }
   ],
   "source": [
    "numeric_tr=np.expand_dims(numeric_tr,axis=2)\n",
    "numeric_cv=np.expand_dims(numeric_cv,axis=2)\n",
    "numeric_test=np.expand_dims(numeric_test,axis=2)\n",
    "print(numeric_tr.shape)\n",
    "print(numeric_cv.shape)\n",
    "print(numeric_test.shape)"
   ]
  },
  {
   "cell_type": "code",
   "execution_count": 99,
   "metadata": {},
   "outputs": [
    {
     "name": "stdout",
     "output_type": "stream",
     "text": [
      "(?, 100, 1)\n"
     ]
    }
   ],
   "source": [
    "input_9 = Input(shape=(numeric_tr.shape[1],numeric_tr.shape[2],),name='combined_input')\n",
    "print(input_9.shape)"
   ]
  },
  {
   "cell_type": "code",
   "execution_count": 101,
   "metadata": {
    "scrolled": false
   },
   "outputs": [],
   "source": [
    "#At the end we concatenate altogther and add other Dense layers\n",
    "\n",
    "#output_3=tf.reshape(output_3,[-1,output_3.shape[1],output_3.shape[1]])\n",
    "#print(output_3.shape)\n",
    "output_3 = Conv1D(128, 5, strides=1,activation=\"relu\")(input_9)\n",
    "output_3 = MaxPooling1D(pool_size=5)(output_3)\n",
    "output_3 = Conv1D(64, 5, activation=\"relu\")(output_3)\n",
    "output_3 = MaxPooling1D(pool_size=5)(output_3)\n",
    "output_3 = Flatten()(output_3)\n",
    "\n",
    "output_4 = Concatenate()([input_1_flatten,output_3])\n",
    "output_4 = Dense(256, kernel_initializer=\"uniform\",activation='relu')(output_4)\n",
    "output_4= Dropout(0.4)(output_4)\n",
    "output_4 = Dense(128, kernel_initializer=\"uniform\",activation='relu')(output_4)\n",
    "output_4= Dropout(0.3)(output_4)\n",
    "output_4 = Dense(64, kernel_initializer=\"uniform\", activation='relu')(output_4)\n",
    "output_4 = Dense(2, activation='softmax')(output_4)"
   ]
  },
  {
   "cell_type": "code",
   "execution_count": 102,
   "metadata": {
    "scrolled": false
   },
   "outputs": [
    {
     "name": "stdout",
     "output_type": "stream",
     "text": [
      "__________________________________________________________________________________________________\n",
      "Layer (type)                    Output Shape         Param #     Connected to                     \n",
      "==================================================================================================\n",
      "combined_input (InputLayer)     (None, 100, 1)       0                                            \n",
      "__________________________________________________________________________________________________\n",
      "conv1d_4 (Conv1D)               (None, 96, 128)      768         combined_input[0][0]             \n",
      "__________________________________________________________________________________________________\n",
      "essay_input (InputLayer)        (None, 200)          0                                            \n",
      "__________________________________________________________________________________________________\n",
      "max_pooling1d_3 (MaxPooling1D)  (None, 19, 128)      0           conv1d_4[0][0]                   \n",
      "__________________________________________________________________________________________________\n",
      "embedding_1 (Embedding)         (None, 200, 300)     5740200     essay_input[0][0]                \n",
      "__________________________________________________________________________________________________\n",
      "conv1d_5 (Conv1D)               (None, 15, 64)       41024       max_pooling1d_3[0][0]            \n",
      "__________________________________________________________________________________________________\n",
      "lstm_1 (LSTM)                   (None, 200, 128)     219648      embedding_1[0][0]                \n",
      "__________________________________________________________________________________________________\n",
      "max_pooling1d_4 (MaxPooling1D)  (None, 3, 64)        0           conv1d_5[0][0]                   \n",
      "__________________________________________________________________________________________________\n",
      "flatten_1 (Flatten)             (None, 25600)        0           lstm_1[0][0]                     \n",
      "__________________________________________________________________________________________________\n",
      "flatten_8 (Flatten)             (None, 192)          0           max_pooling1d_4[0][0]            \n",
      "__________________________________________________________________________________________________\n",
      "concatenate_3 (Concatenate)     (None, 25792)        0           flatten_1[0][0]                  \n",
      "                                                                 flatten_8[0][0]                  \n",
      "__________________________________________________________________________________________________\n",
      "dense_14 (Dense)                (None, 256)          6603008     concatenate_3[0][0]              \n",
      "__________________________________________________________________________________________________\n",
      "dropout_5 (Dropout)             (None, 256)          0           dense_14[0][0]                   \n",
      "__________________________________________________________________________________________________\n",
      "dense_15 (Dense)                (None, 128)          32896       dropout_5[0][0]                  \n",
      "__________________________________________________________________________________________________\n",
      "dropout_6 (Dropout)             (None, 128)          0           dense_15[0][0]                   \n",
      "__________________________________________________________________________________________________\n",
      "dense_16 (Dense)                (None, 64)           8256        dropout_6[0][0]                  \n",
      "__________________________________________________________________________________________________\n",
      "dense_17 (Dense)                (None, 2)            130         dense_16[0][0]                   \n",
      "==================================================================================================\n",
      "Total params: 12,645,930\n",
      "Trainable params: 6,905,730\n",
      "Non-trainable params: 5,740,200\n",
      "__________________________________________________________________________________________________\n"
     ]
    }
   ],
   "source": [
    "from keras import optimizers\n",
    "model_3 = Model(inputs=[input_1,input_2,input_3,input_4,input_5,input_6,input_9], outputs=output_4)\n",
    "model_3.compile(loss='binary_crossentropy', optimizer=optimizers.SGD(lr=0.01, decay=1e-6, momentum=0.9) ,metrics=[auroc])\n",
    "model_3.summary()"
   ]
  },
  {
   "cell_type": "code",
   "execution_count": 104,
   "metadata": {},
   "outputs": [],
   "source": [
    "plot_model(model_3, to_file='model_3.png', show_shapes=True, show_layer_names=True)"
   ]
  },
  {
   "cell_type": "code",
   "execution_count": 105,
   "metadata": {
    "scrolled": true
   },
   "outputs": [
    {
     "name": "stdout",
     "output_type": "stream",
     "text": [
      "Train on 6400 samples, validate on 1600 samples\n",
      "Epoch 1/2\n",
      " - 77s - loss: 0.5632 - auroc: 0.5242 - val_loss: 0.4273 - val_auroc: 0.5514\n",
      "Epoch 2/2\n",
      " - 74s - loss: 0.4159 - auroc: 0.5404 - val_loss: 0.4155 - val_auroc: 0.5607\n"
     ]
    }
   ],
   "source": [
    "history = model_3.fit(x=[X8_tr,X2_tr,X3_tr,X4_tr, X5_tr, X6_tr,numeric_tr], y=y_train, validation_data=([X8_cv,X2_cv,X3_cv,X4_cv, X5_cv, X6_cv,numeric_cv],y_cv),epochs=2,batch_size=300,verbose=2)"
   ]
  },
  {
   "cell_type": "code",
   "execution_count": 106,
   "metadata": {},
   "outputs": [],
   "source": [
    "score = model_3.evaluate(x=[X8_test,X2_test,X3_test,X4_test, X5_test, X6_test, numeric_test], y=y_test, verbose=2)"
   ]
  },
  {
   "cell_type": "code",
   "execution_count": 107,
   "metadata": {},
   "outputs": [
    {
     "name": "stdout",
     "output_type": "stream",
     "text": [
      "Test Loss: 0.415793185710907\n",
      "Test AUC: 0.5500313622405458\n"
     ]
    }
   ],
   "source": [
    "print(\"Test Loss:\", score[0])\n",
    "print(\"Test AUC:\", score[1])"
   ]
  },
  {
   "cell_type": "code",
   "execution_count": 108,
   "metadata": {
    "scrolled": false
   },
   "outputs": [
    {
     "data": {
      "image/png": "[encoded data removed]",
      "text/plain": [
       "<Figure size 432x288 with 1 Axes>"
      ]
     },
     "metadata": {
      "needs_background": "light"
     },
     "output_type": "display_data"
    },
    {
     "data": {
      "image/png": "[encoded data removed]",
      "text/plain": [
       "<Figure size 432x288 with 1 Axes>"
      ]
     },
     "metadata": {
      "needs_background": "light"
     },
     "output_type": "display_data"
    }
   ],
   "source": [
    "plt.plot(history.history['auroc'])\n",
    "plt.plot(history.history['val_auroc'])\n",
    "\n",
    "plt.title('model auc')\n",
    "plt.ylabel('auc')\n",
    "plt.xlabel('epoch')\n",
    "plt.legend(['train','test'], loc='upper left')\n",
    "plt.show()\n",
    "\n",
    "plt.plot(history.history['loss'])\n",
    "plt.plot(history.history['val_loss'])\n",
    "\n",
    "plt.title('model loss')\n",
    "plt.ylabel('loss')\n",
    "plt.xlabel('epoch')\n",
    "plt.legend(['train','test'], loc='upper left')\n",
    "plt.show()"
   ]
  },
  {
   "cell_type": "code",
   "execution_count": 109,
   "metadata": {},
   "outputs": [
    {
     "name": "stdout",
     "output_type": "stream",
     "text": [
      "Saved model to disk\n"
     ]
    }
   ],
   "source": [
    "# serialize weights to HDF5\n",
    "model_3.save_weights(\"model_3.h5\")\n",
    "print(\"Saved model to disk\")"
   ]
  }
 ],
 "metadata": {
  "colab": {
   "collapsed_sections": [
    "0d0QeeQ-CyoD",
    "5YnkzKnmCyoN",
    "W544CoFtCyoN",
    "gK_SHRpTCyol",
    "YHwGesZUCyo1",
    "_s3QN_ZNCypD",
    "B1dIm8PiCypw",
    "s85gPOAbCyp1",
    "oq3NW2CbCyp3",
    "TJLjbsNYCyp5"
   ],
   "name": "3_DonorsChoose_KNN.ipynb",
   "provenance": [],
   "version": "0.3.2"
  },
  "kernelspec": {
   "display_name": "Python 3",
   "language": "python",
   "name": "python3"
  },
  "language_info": {
   "codemirror_mode": {
    "name": "ipython",
    "version": 3
   },
   "file_extension": ".py",
   "mimetype": "text/x-python",
   "name": "python",
   "nbconvert_exporter": "python",
   "pygments_lexer": "ipython3",
   "version": "3.7.3"
  }
 },
 "nbformat": 4,
 "nbformat_minor": 1
}
