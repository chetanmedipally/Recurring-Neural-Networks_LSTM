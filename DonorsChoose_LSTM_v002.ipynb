{
 "cells": [
  {
   "cell_type": "markdown",
   "metadata": {
    "colab_type": "text",
    "id": "-Ab-X-IrCyl0"
   },
   "source": [
    "# DonorsChoose"
   ]
  },
  {
   "cell_type": "markdown",
   "metadata": {
    "colab_type": "text",
    "id": "etNpzy7rCyl2"
   },
   "source": [
    "<p>\n",
    "DonorsChoose.org receives hundreds of thousands of project proposals each year for classroom projects in need of funding. Right now, a large number of volunteers is needed to manually screen each submission before it's approved to be posted on the DonorsChoose.org website.\n",
    "</p>\n",
    "<p>\n",
    "    Next year, DonorsChoose.org expects to receive close to 500,000 project proposals. As a result, there are three main problems they need to solve:\n",
    "<ul>\n",
    "<li>\n",
    "    How to scale current manual processes and resources to screen 500,000 projects so that they can be posted as quickly and as efficiently as possible</li>\n",
    "    <li>How to increase the consistency of project vetting across different volunteers to improve the experience for teachers</li>\n",
    "    <li>How to focus volunteer time on the applications that need the most assistance</li>\n",
    "    </ul>\n",
    "</p>    \n",
    "<p>\n",
    "The goal of the competition is to predict whether or not a DonorsChoose.org project proposal submitted by a teacher will be approved, using the text of project descriptions as well as additional metadata about the project, teacher, and school. DonorsChoose.org can then use this information to identify projects most likely to need further review before approval.\n",
    "</p>"
   ]
  },
  {
   "cell_type": "markdown",
   "metadata": {
    "colab_type": "text",
    "id": "kO2Kg7TgCyl4"
   },
   "source": [
    "## About the DonorsChoose Data Set\n",
    "\n",
    "The `train.csv` data set provided by DonorsChoose contains the following features:\n",
    "\n",
    "Feature | Description \n",
    "----------|---------------\n",
    "**`project_id`** | A unique identifier for the proposed project. **Example:** `p036502`   \n",
    "**`project_title`**    | Title of the project. **Examples:**<br><ul><li><code>Art Will Make You Happy!</code></li><li><code>First Grade Fun</code></li></ul> \n",
    "**`project_grade_category`** | Grade level of students for which the project is targeted. One of the following enumerated values: <br/><ul><li><code>Grades PreK-2</code></li><li><code>Grades 3-5</code></li><li><code>Grades 6-8</code></li><li><code>Grades 9-12</code></li></ul>  \n",
    " **`project_subject_categories`** | One or more (comma-separated) subject categories for the project from the following enumerated list of values:  <br/><ul><li><code>Applied Learning</code></li><li><code>Care &amp; Hunger</code></li><li><code>Health &amp; Sports</code></li><li><code>History &amp; Civics</code></li><li><code>Literacy &amp; Language</code></li><li><code>Math &amp; Science</code></li><li><code>Music &amp; The Arts</code></li><li><code>Special Needs</code></li><li><code>Warmth</code></li></ul><br/> **Examples:** <br/><ul><li><code>Music &amp; The Arts</code></li><li><code>Literacy &amp; Language, Math &amp; Science</code></li>  \n",
    "  **`school_state`** | State where school is located ([Two-letter U.S. postal code](https://en.wikipedia.org/wiki/List_of_U.S._state_abbreviations#Postal_codes)). **Example:** `WY`\n",
    "**`project_subject_subcategories`** | One or more (comma-separated) subject subcategories for the project. **Examples:** <br/><ul><li><code>Literacy</code></li><li><code>Literature &amp; Writing, Social Sciences</code></li></ul> \n",
    "**`project_resource_summary`** | An explanation of the resources needed for the project. **Example:** <br/><ul><li><code>My students need hands on literacy materials to manage sensory needs!</code</li></ul> \n",
    "**`project_essay_1`**    | First application essay<sup>*</sup>  \n",
    "**`project_essay_2`**    | Second application essay<sup>*</sup> \n",
    "**`project_essay_3`**    | Third application essay<sup>*</sup> \n",
    "**`project_essay_4`**    | Fourth application essay<sup>*</sup> \n",
    "**`project_submitted_datetime`** | Datetime when project application was submitted. **Example:** `2016-04-28 12:43:56.245`   \n",
    "**`teacher_id`** | A unique identifier for the teacher of the proposed project. **Example:** `bdf8baa8fedef6bfeec7ae4ff1c15c56`  \n",
    "**`teacher_prefix`** | Teacher's title. One of the following enumerated values: <br/><ul><li><code>nan</code></li><li><code>Dr.</code></li><li><code>Mr.</code></li><li><code>Mrs.</code></li><li><code>Ms.</code></li><li><code>Teacher.</code></li></ul>  \n",
    "**`teacher_number_of_previously_posted_projects`** | Number of project applications previously submitted by the same teacher. **Example:** `2` \n",
    "\n",
    "<sup>*</sup> See the section <b>Notes on the Essay Data</b> for more details about these features.\n",
    "\n",
    "Additionally, the `resources.csv` data set provides more data about the resources required for each project. Each line in this file represents a resource required by a project:\n",
    "\n",
    "Feature | Description \n",
    "----------|---------------\n",
    "**`id`** | A `project_id` value from the `train.csv` file.  **Example:** `p036502`   \n",
    "**`description`** | Desciption of the resource. **Example:** `Tenor Saxophone Reeds, Box of 25`   \n",
    "**`quantity`** | Quantity of the resource required. **Example:** `3`   \n",
    "**`price`** | Price of the resource required. **Example:** `9.95`   \n",
    "\n",
    "**Note:** Many projects require multiple resources. The `id` value corresponds to a `project_id` in train.csv, so you use it as a key to retrieve all resources needed for a project:\n",
    "\n",
    "The data set contains the following label (the value you will attempt to predict):\n",
    "\n",
    "Label | Description\n",
    "----------|---------------\n",
    "`project_is_approved` | A binary flag indicating whether DonorsChoose approved the project. A value of `0` indicates the project was not approved, and a value of `1` indicates the project was approved."
   ]
  },
  {
   "cell_type": "markdown",
   "metadata": {
    "colab_type": "text",
    "id": "dBGA_YStCyl6"
   },
   "source": [
    "### Notes on the Essay Data\n",
    "\n",
    "<ul>\n",
    "Prior to May 17, 2016, the prompts for the essays were as follows:\n",
    "<li>__project_essay_1:__ \"Introduce us to your classroom\"</li>\n",
    "<li>__project_essay_2:__ \"Tell us more about your students\"</li>\n",
    "<li>__project_essay_3:__ \"Describe how your students will use the materials you're requesting\"</li>\n",
    "<li>__project_essay_3:__ \"Close by sharing why your project will make a difference\"</li>\n",
    "</ul>\n",
    "\n",
    "\n",
    "<ul>\n",
    "Starting on May 17, 2016, the number of essays was reduced from 4 to 2, and the prompts for the first 2 essays were changed to the following:<br>\n",
    "<li>__project_essay_1:__ \"Describe your students: What makes your students special? Specific details about their background, your neighborhood, and your school are all helpful.\"</li>\n",
    "<li>__project_essay_2:__ \"About your project: How will these materials make a difference in your students' learning and improve their school lives?\"</li>\n",
    "<br>For all projects with project_submitted_datetime of 2016-05-17 and later, the values of project_essay_3 and project_essay_4 will be NaN.\n",
    "</ul>\n"
   ]
  },
  {
   "cell_type": "code",
   "execution_count": 1,
   "metadata": {
    "colab": {},
    "colab_type": "code",
    "id": "XTrCJ5p9Cyl7",
    "outputId": "06c35f2f-d281-4345-9668-f8f44b28d6ac"
   },
   "outputs": [],
   "source": [
    "%matplotlib inline\n",
    "import warnings\n",
    "warnings.filterwarnings(\"ignore\")\n",
    "warnings.simplefilter(\"ignore\")\n",
    "warnings.warn(\"ignore\")\n",
    "import sqlite3\n",
    "import pandas as pd\n",
    "import numpy as np\n",
    "import nltk\n",
    "import string\n",
    "import matplotlib.pyplot as plt\n",
    "import seaborn as sns\n",
    "from sklearn.feature_extraction.text import TfidfTransformer\n",
    "from sklearn.feature_extraction.text import TfidfVectorizer\n",
    "\n",
    "from sklearn.feature_extraction.text import CountVectorizer\n",
    "from sklearn.metrics import confusion_matrix\n",
    "from sklearn import metrics\n",
    "from sklearn import model_selection\n",
    "from sklearn.metrics import roc_curve, auc\n",
    "from nltk.stem.porter import PorterStemmer\n",
    "\n",
    "import re\n",
    "# Tutorial about Python regular expressions: https://pymotw.com/2/re/\n",
    "import string\n",
    "from nltk.corpus import stopwords\n",
    "from nltk.stem import PorterStemmer\n",
    "from nltk.stem.wordnet import WordNetLemmatizer\n",
    "\n",
    "from gensim.models import Word2Vec\n",
    "from gensim.models import KeyedVectors\n",
    "import pickle\n",
    "\n",
    "from tqdm import tqdm\n",
    "import os"
   ]
  },
  {
   "cell_type": "code",
   "execution_count": 2,
   "metadata": {},
   "outputs": [],
   "source": [
    "from sklearn.metrics import accuracy_score\n",
    "from sklearn.metrics import roc_auc_score\n",
    "from sklearn.metrics import roc_curve, auc"
   ]
  },
  {
   "cell_type": "code",
   "execution_count": 3,
   "metadata": {},
   "outputs": [
    {
     "name": "stderr",
     "output_type": "stream",
     "text": [
      "Using TensorFlow backend.\n"
     ]
    }
   ],
   "source": [
    "from keras.preprocessing.text import one_hot\n",
    "from keras.preprocessing.sequence import pad_sequences\n",
    "from keras.models import Sequential\n",
    "from keras.layers.core import Activation, Dropout, Dense ,Reshape\n",
    "from keras.layers import Flatten, LSTM\n",
    "from keras.layers import GlobalMaxPooling1D\n",
    "from keras.models import Model\n",
    "from keras.layers.embeddings import Embedding\n",
    "from keras.preprocessing.text import Tokenizer\n",
    "from keras.layers import Input\n",
    "from keras.layers.merge import Concatenate\n",
    "from keras.utils import to_categorical"
   ]
  },
  {
   "cell_type": "markdown",
   "metadata": {
    "colab_type": "text",
    "id": "MjknLZQqCymQ"
   },
   "source": [
    "## 1.1 Reading Data"
   ]
  },
  {
   "cell_type": "code",
   "execution_count": 4,
   "metadata": {},
   "outputs": [],
   "source": [
    "#https://stackabuse.com/python-for-nlp-creating-multi-data-type-classification-models-with-keras/\n",
    "#https://www.pyimagesearch.com/2019/01/21/regression-with-keras/\n",
    "#https://github.com/mmortazavi/EntityEmbedding-Working_Example/blob/master/EntityEmbedding.ipynb\n",
    "#https://www.pyimagesearch.com/2019/02/04/keras-multiple-inputs-and-mixed-data/"
   ]
  },
  {
   "cell_type": "code",
   "execution_count": 5,
   "metadata": {
    "colab": {},
    "colab_type": "code",
    "id": "abtcqBS8CymT"
   },
   "outputs": [],
   "source": [
    "preprocessed_data = pd.read_csv('preprocessed_data.csv')"
   ]
  },
  {
   "cell_type": "code",
   "execution_count": 6,
   "metadata": {
    "scrolled": true
   },
   "outputs": [
    {
     "name": "stdout",
     "output_type": "stream",
     "text": [
      "Number of data points in preprocessed data (109248, 9)\n"
     ]
    }
   ],
   "source": [
    "print(\"Number of data points in preprocessed data\", preprocessed_data.shape)"
   ]
  },
  {
   "cell_type": "code",
   "execution_count": 7,
   "metadata": {
    "scrolled": false
   },
   "outputs": [
    {
     "data": {
      "text/html": [
       "<div>\n",
       "<style scoped>\n",
       "    .dataframe tbody tr th:only-of-type {\n",
       "        vertical-align: middle;\n",
       "    }\n",
       "\n",
       "    .dataframe tbody tr th {\n",
       "        vertical-align: top;\n",
       "    }\n",
       "\n",
       "    .dataframe thead th {\n",
       "        text-align: right;\n",
       "    }\n",
       "</style>\n",
       "<table border=\"1\" class=\"dataframe\">\n",
       "  <thead>\n",
       "    <tr style=\"text-align: right;\">\n",
       "      <th></th>\n",
       "      <th>school_state</th>\n",
       "      <th>teacher_prefix</th>\n",
       "      <th>project_grade_category</th>\n",
       "      <th>teacher_number_of_previously_posted_projects</th>\n",
       "      <th>project_is_approved</th>\n",
       "      <th>clean_categories</th>\n",
       "      <th>clean_subcategories</th>\n",
       "      <th>essay</th>\n",
       "      <th>price</th>\n",
       "    </tr>\n",
       "  </thead>\n",
       "  <tbody>\n",
       "    <tr>\n",
       "      <th>100976</th>\n",
       "      <td>ca</td>\n",
       "      <td>ms</td>\n",
       "      <td>grades_6_8</td>\n",
       "      <td>48</td>\n",
       "      <td>1</td>\n",
       "      <td>specialneeds music_arts</td>\n",
       "      <td>specialneeds visualarts</td>\n",
       "      <td>my students come various backgrounds their soc...</td>\n",
       "      <td>134.00</td>\n",
       "    </tr>\n",
       "    <tr>\n",
       "      <th>51738</th>\n",
       "      <td>fl</td>\n",
       "      <td>mrs</td>\n",
       "      <td>grades_prek_2</td>\n",
       "      <td>7</td>\n",
       "      <td>1</td>\n",
       "      <td>literacy_language math_science</td>\n",
       "      <td>literacy mathematics</td>\n",
       "      <td>how often use iphone your ipad a computer my a...</td>\n",
       "      <td>305.00</td>\n",
       "    </tr>\n",
       "    <tr>\n",
       "      <th>39259</th>\n",
       "      <td>il</td>\n",
       "      <td>ms</td>\n",
       "      <td>grades_3_5</td>\n",
       "      <td>3</td>\n",
       "      <td>1</td>\n",
       "      <td>literacy_language history_civics</td>\n",
       "      <td>literacy socialsciences</td>\n",
       "      <td>right line five fifth graders waiting book i m...</td>\n",
       "      <td>21.23</td>\n",
       "    </tr>\n",
       "    <tr>\n",
       "      <th>55301</th>\n",
       "      <td>nv</td>\n",
       "      <td>mrs</td>\n",
       "      <td>grades_prek_2</td>\n",
       "      <td>1</td>\n",
       "      <td>1</td>\n",
       "      <td>literacy_language math_science</td>\n",
       "      <td>literature_writing mathematics</td>\n",
       "      <td>this second year pinecrest academy second year...</td>\n",
       "      <td>149.99</td>\n",
       "    </tr>\n",
       "    <tr>\n",
       "      <th>50390</th>\n",
       "      <td>tx</td>\n",
       "      <td>mrs</td>\n",
       "      <td>grades_6_8</td>\n",
       "      <td>31</td>\n",
       "      <td>1</td>\n",
       "      <td>math_science</td>\n",
       "      <td>mathematics</td>\n",
       "      <td>character cannot developed ease quiet only exp...</td>\n",
       "      <td>185.63</td>\n",
       "    </tr>\n",
       "  </tbody>\n",
       "</table>\n",
       "</div>"
      ],
      "text/plain": [
       "       school_state teacher_prefix project_grade_category  \\\n",
       "100976           ca             ms             grades_6_8   \n",
       "51738            fl            mrs          grades_prek_2   \n",
       "39259            il             ms             grades_3_5   \n",
       "55301            nv            mrs          grades_prek_2   \n",
       "50390            tx            mrs             grades_6_8   \n",
       "\n",
       "        teacher_number_of_previously_posted_projects  project_is_approved  \\\n",
       "100976                                            48                    1   \n",
       "51738                                              7                    1   \n",
       "39259                                              3                    1   \n",
       "55301                                              1                    1   \n",
       "50390                                             31                    1   \n",
       "\n",
       "                        clean_categories             clean_subcategories  \\\n",
       "100976           specialneeds music_arts         specialneeds visualarts   \n",
       "51738     literacy_language math_science            literacy mathematics   \n",
       "39259   literacy_language history_civics         literacy socialsciences   \n",
       "55301     literacy_language math_science  literature_writing mathematics   \n",
       "50390                       math_science                     mathematics   \n",
       "\n",
       "                                                    essay   price  \n",
       "100976  my students come various backgrounds their soc...  134.00  \n",
       "51738   how often use iphone your ipad a computer my a...  305.00  \n",
       "39259   right line five fifth graders waiting book i m...   21.23  \n",
       "55301   this second year pinecrest academy second year...  149.99  \n",
       "50390   character cannot developed ease quiet only exp...  185.63  "
      ]
     },
     "execution_count": 7,
     "metadata": {},
     "output_type": "execute_result"
    }
   ],
   "source": [
    "preprocessed_data=preprocessed_data.sample(n=10000)\n",
    "preprocessed_data.head()"
   ]
  },
  {
   "cell_type": "code",
   "execution_count": 8,
   "metadata": {},
   "outputs": [],
   "source": [
    "X=preprocessed_data.drop(columns=['project_is_approved'],axis=1)\n",
    "y=preprocessed_data['project_is_approved']"
   ]
  },
  {
   "cell_type": "code",
   "execution_count": 9,
   "metadata": {},
   "outputs": [],
   "source": [
    "X_1, X_test, y_1, y_test = model_selection.train_test_split(X, y, test_size=0.2, random_state=0,stratify=y)\n",
    "\n",
    "# split the train data set into cross validation train and cross validation test\n",
    "X_train, X_cv, y_train, y_cv = model_selection.train_test_split(X_1, y_1, test_size=0.2)"
   ]
  },
  {
   "cell_type": "code",
   "execution_count": 43,
   "metadata": {},
   "outputs": [],
   "source": [
    "tokenizer = Tokenizer()\n",
    "tokenizer.fit_on_texts(X_train['essay'].values)\n",
    "\n",
    "X1_tr = np.array(tokenizer.texts_to_sequences(X_train['essay'].values))\n",
    "X1_cv = np.array(tokenizer.texts_to_sequences(X_cv['essay'].values))\n",
    "X1_test = np.array(tokenizer.texts_to_sequences(X_test['essay'].values))"
   ]
  },
  {
   "cell_type": "code",
   "execution_count": 44,
   "metadata": {},
   "outputs": [],
   "source": [
    "vocab_size = len(tokenizer.word_index) + 1\n",
    "\n",
    "maxlen = 200\n",
    "\n",
    "X1_tr = pad_sequences(X1_tr, padding='post', maxlen=maxlen)\n",
    "X1_cv = pad_sequences(X1_cv, padding='post', maxlen=maxlen)\n",
    "X1_test = pad_sequences(X1_test, padding='post', maxlen=maxlen)"
   ]
  },
  {
   "cell_type": "code",
   "execution_count": 45,
   "metadata": {},
   "outputs": [
    {
     "name": "stdout",
     "output_type": "stream",
     "text": [
      "(6400, 200)\n",
      "(1600, 200)\n",
      "(2000, 200)\n"
     ]
    }
   ],
   "source": [
    "print(X1_tr.shape)\n",
    "print(X1_cv.shape)\n",
    "print(X1_test.shape)"
   ]
  },
  {
   "cell_type": "code",
   "execution_count": 46,
   "metadata": {},
   "outputs": [],
   "source": [
    "with open('glove_vectors', 'rb') as f:\n",
    "    model = pickle.load(f)\n",
    "    glove_words =  set(model.keys())"
   ]
  },
  {
   "cell_type": "code",
   "execution_count": 47,
   "metadata": {},
   "outputs": [],
   "source": [
    "embeddings_dictionary = dict()\n",
    "for word in glove_words:\n",
    "    vector_dimensions = model[word]\n",
    "    embeddings_dictionary [word] = vector_dimensions"
   ]
  },
  {
   "cell_type": "code",
   "execution_count": 48,
   "metadata": {},
   "outputs": [],
   "source": [
    "embedding_matrix = np.zeros((vocab_size, 300))\n",
    "for word, index in tokenizer.word_index.items():\n",
    "    embedding_vector = embeddings_dictionary.get(word)\n",
    "    if embedding_vector is not None:\n",
    "        embedding_matrix[index] = embedding_vector"
   ]
  },
  {
   "cell_type": "code",
   "execution_count": 49,
   "metadata": {},
   "outputs": [
    {
     "data": {
      "text/plain": [
       "(18943, 300)"
      ]
     },
     "execution_count": 49,
     "metadata": {},
     "output_type": "execute_result"
    }
   ],
   "source": [
    "embedding_matrix.shape"
   ]
  },
  {
   "cell_type": "code",
   "execution_count": 50,
   "metadata": {},
   "outputs": [
    {
     "name": "stdout",
     "output_type": "stream",
     "text": [
      "(?, 200)\n",
      "(?, 200, 300)\n",
      "(?, ?, 128)\n",
      "(?, ?)\n"
     ]
    }
   ],
   "source": [
    "input_1 = Input(shape=(maxlen,),name='essay_input')\n",
    "print(input_1.shape)\n",
    "input_model_1 = Embedding(vocab_size, 300, weights=[embedding_matrix], trainable=False )(input_1)\n",
    "print(input_model_1.shape)\n",
    "input_model_1 = LSTM(128,return_sequences=True)(input_model_1)\n",
    "print(input_model_1.shape)\n",
    "input_model_1=Flatten()(input_model_1)\n",
    "print(input_model_1.shape)"
   ]
  },
  {
   "cell_type": "code",
   "execution_count": 51,
   "metadata": {},
   "outputs": [],
   "source": [
    "categoricals=['school_state','teacher_prefix','project_grade_category','clean_categories','clean_subcategories']\n",
    "numericals=['teacher_number_of_previously_posted_projects','price']"
   ]
  },
  {
   "cell_type": "code",
   "execution_count": 52,
   "metadata": {},
   "outputs": [
    {
     "name": "stdout",
     "output_type": "stream",
     "text": [
      "school_state 51\n",
      "teacher_prefix 5\n",
      "project_grade_category 4\n",
      "clean_categories 46\n",
      "clean_subcategories 262\n"
     ]
    }
   ],
   "source": [
    "embed_cols=[i for i in X_train[categoricals]]\n",
    "\n",
    "for i in embed_cols:\n",
    "    print(i,X_train[i].nunique())"
   ]
  },
  {
   "cell_type": "code",
   "execution_count": 53,
   "metadata": {},
   "outputs": [],
   "source": [
    "from sklearn.feature_extraction.text import CountVectorizer\n"
   ]
  },
  {
   "cell_type": "code",
   "execution_count": 54,
   "metadata": {},
   "outputs": [
    {
     "name": "stdout",
     "output_type": "stream",
     "text": [
      "(?, 51)\n",
      "(?, 51, 26)\n",
      "(?, ?)\n"
     ]
    }
   ],
   "source": [
    "vectorizer = CountVectorizer()\n",
    "X2_tr = vectorizer.fit_transform(X_train['school_state'].values).toarray()\n",
    "X2_cv = vectorizer.transform(X_cv['school_state'].values).toarray()\n",
    "X2_test = vectorizer.transform(X_test['school_state'].values).toarray()\n",
    "cat_emb_name= 'school_state_Embedding'\n",
    "no_of_unique_cat  = X_train['school_state'].nunique()\n",
    "embedding_size = int(min(np.ceil((no_of_unique_cat)/2), 50 ))\n",
    "input_2 = Input(shape=(X2_tr.shape[1],),name='school_state_input')\n",
    "print(input_2.shape)\n",
    "input_model_2 = Embedding(no_of_unique_cat, embedding_size, name=cat_emb_name)(input_2)\n",
    "print(input_model_2.shape)\n",
    "input_model_2=Flatten()(input_model_2)\n",
    "print(input_model_2.shape)"
   ]
  },
  {
   "cell_type": "code",
   "execution_count": 55,
   "metadata": {},
   "outputs": [
    {
     "name": "stdout",
     "output_type": "stream",
     "text": [
      "(6400, 51)\n",
      "(1600, 51)\n",
      "(2000, 51)\n"
     ]
    }
   ],
   "source": [
    "print(X2_tr.shape)\n",
    "print(X2_cv.shape)\n",
    "print(X2_test.shape)"
   ]
  },
  {
   "cell_type": "code",
   "execution_count": 56,
   "metadata": {},
   "outputs": [
    {
     "name": "stdout",
     "output_type": "stream",
     "text": [
      "(?, 5)\n",
      "(?, 5, 3)\n",
      "(?, ?)\n"
     ]
    }
   ],
   "source": [
    "vectorizer = CountVectorizer()\n",
    "X3_tr = vectorizer.fit_transform(X_train['teacher_prefix'].values.astype('U')).toarray()\n",
    "X3_cv = vectorizer.transform(X_cv['teacher_prefix'].values.astype('U')).toarray()\n",
    "X3_test = vectorizer.transform(X_test['teacher_prefix'].values.astype('U')).toarray()\n",
    "cat_emb_name= 'teacher_prefix_Embedding'\n",
    "no_of_unique_cat  = X_train['teacher_prefix'].nunique()\n",
    "embedding_size = int(min(np.ceil((no_of_unique_cat)/2), 50 ))\n",
    "input_3 = Input(shape=(X3_tr.shape[1],),name='teacher_prefix_input')\n",
    "print(input_3.shape)\n",
    "input_model_3 = Embedding(no_of_unique_cat, embedding_size, name=cat_emb_name)(input_3)\n",
    "print(input_model_3.shape)\n",
    "input_model_3=Flatten()(input_model_3)\n",
    "print(input_model_3.shape)"
   ]
  },
  {
   "cell_type": "code",
   "execution_count": 57,
   "metadata": {},
   "outputs": [
    {
     "data": {
      "text/plain": [
       "array([[0, 0, 1, 0, 0],\n",
       "       [0, 0, 0, 1, 0]], dtype=int64)"
      ]
     },
     "execution_count": 57,
     "metadata": {},
     "output_type": "execute_result"
    }
   ],
   "source": [
    "X3_tr[0:2]"
   ]
  },
  {
   "cell_type": "code",
   "execution_count": 58,
   "metadata": {},
   "outputs": [
    {
     "name": "stdout",
     "output_type": "stream",
     "text": [
      "(6400, 5)\n",
      "(1600, 5)\n",
      "(2000, 5)\n"
     ]
    }
   ],
   "source": [
    "print(X3_tr.shape)\n",
    "print(X3_cv.shape)\n",
    "print(X3_test.shape)"
   ]
  },
  {
   "cell_type": "code",
   "execution_count": 59,
   "metadata": {},
   "outputs": [
    {
     "name": "stdout",
     "output_type": "stream",
     "text": [
      "(?, 4)\n",
      "(?, 4, 2)\n",
      "(?, ?)\n"
     ]
    }
   ],
   "source": [
    "vectorizer = CountVectorizer()\n",
    "X4_tr = vectorizer.fit_transform(X_train['project_grade_category'].values).toarray()\n",
    "X4_cv = vectorizer.transform(X_cv['project_grade_category'].values).toarray()\n",
    "X4_test = vectorizer.transform(X_test['project_grade_category'].values).toarray()\n",
    "cat_emb_name= 'project_grade_category_Embedding'\n",
    "no_of_unique_cat  = X_train['project_grade_category'].nunique()\n",
    "embedding_size = int(min(np.ceil((no_of_unique_cat)/2), 50 ))\n",
    "input_4 = Input(shape=(X4_tr.shape[1],),name='project_grade_category_input')\n",
    "print(input_4.shape)\n",
    "input_model_4 = Embedding(no_of_unique_cat, embedding_size, name=cat_emb_name)(input_4)\n",
    "print(input_model_4.shape)\n",
    "input_model_4=Flatten()(input_model_4)\n",
    "print(input_model_4.shape)"
   ]
  },
  {
   "cell_type": "code",
   "execution_count": 60,
   "metadata": {},
   "outputs": [
    {
     "name": "stdout",
     "output_type": "stream",
     "text": [
      "(6400, 4)\n",
      "(1600, 4)\n",
      "(2000, 4)\n"
     ]
    }
   ],
   "source": [
    "print(X4_tr.shape)\n",
    "print(X4_cv.shape)\n",
    "print(X4_test.shape)"
   ]
  },
  {
   "cell_type": "code",
   "execution_count": 61,
   "metadata": {},
   "outputs": [
    {
     "name": "stdout",
     "output_type": "stream",
     "text": [
      "(?, 9)\n",
      "(?, 9, 23)\n",
      "(?, ?)\n"
     ]
    }
   ],
   "source": [
    "vectorizer = CountVectorizer()\n",
    "X5_tr = vectorizer.fit_transform(X_train['clean_categories'].values).toarray()\n",
    "X5_cv = vectorizer.transform(X_cv['clean_categories'].values).toarray()\n",
    "X5_test = vectorizer.transform(X_test['clean_categories'].values).toarray()\n",
    "cat_emb_name= 'clean_categories_Embedding'\n",
    "no_of_unique_cat  = X_train['clean_categories'].nunique()\n",
    "embedding_size = int(min(np.ceil((no_of_unique_cat)/2), 50 ))\n",
    "input_5 = Input(shape=(X5_tr.shape[1],),name='clean_categories_input')\n",
    "print(input_5.shape)\n",
    "input_model_5 = Embedding(no_of_unique_cat, embedding_size, name=cat_emb_name)(input_5)\n",
    "print(input_model_5.shape)\n",
    "input_model_5=Flatten()(input_model_5)\n",
    "print(input_model_5.shape)"
   ]
  },
  {
   "cell_type": "code",
   "execution_count": 62,
   "metadata": {},
   "outputs": [
    {
     "name": "stdout",
     "output_type": "stream",
     "text": [
      "(6400, 9)\n",
      "(1600, 9)\n",
      "(2000, 9)\n"
     ]
    }
   ],
   "source": [
    "print(X5_tr.shape)\n",
    "print(X5_cv.shape)\n",
    "print(X5_test.shape)"
   ]
  },
  {
   "cell_type": "code",
   "execution_count": 63,
   "metadata": {},
   "outputs": [
    {
     "name": "stdout",
     "output_type": "stream",
     "text": [
      "(?, 30)\n",
      "(?, 30, 50)\n",
      "(?, ?)\n"
     ]
    }
   ],
   "source": [
    "vectorizer = CountVectorizer()\n",
    "X6_tr = vectorizer.fit_transform(X_train['clean_subcategories'].values).toarray()\n",
    "X6_cv = vectorizer.transform(X_cv['clean_subcategories'].values).toarray()\n",
    "X6_test = vectorizer.transform(X_test['clean_subcategories'].values).toarray()\n",
    "cat_emb_name= 'clean_subcategories_Embedding'\n",
    "no_of_unique_cat  = X_train['clean_subcategories'].nunique()\n",
    "embedding_size = int(min(np.ceil((no_of_unique_cat)/2), 50 ))\n",
    "input_6 = Input(shape=(X6_tr.shape[1],),name='clean_subcategories_input')\n",
    "print(input_6.shape)\n",
    "input_model_6 = Embedding(no_of_unique_cat, embedding_size, name=cat_emb_name)(input_6)\n",
    "print(input_model_6.shape)\n",
    "input_model_6=Flatten()(input_model_6)\n",
    "print(input_model_6.shape)"
   ]
  },
  {
   "cell_type": "code",
   "execution_count": 64,
   "metadata": {},
   "outputs": [
    {
     "name": "stdout",
     "output_type": "stream",
     "text": [
      "(6400, 30)\n",
      "(1600, 30)\n",
      "(2000, 30)\n"
     ]
    }
   ],
   "source": [
    "print(X6_tr.shape)\n",
    "print(X6_cv.shape)\n",
    "print(X6_test.shape)"
   ]
  },
  {
   "cell_type": "code",
   "execution_count": 65,
   "metadata": {},
   "outputs": [
    {
     "name": "stdout",
     "output_type": "stream",
     "text": [
      "(?, 2)\n",
      "(?, 128)\n"
     ]
    }
   ],
   "source": [
    "X7_tr = X_train[['teacher_number_of_previously_posted_projects', 'price']].values\n",
    "X7_test = X_test[['teacher_number_of_previously_posted_projects', 'price']].values\n",
    "X7_cv = X_cv[['teacher_number_of_previously_posted_projects', 'price']].values\n",
    "\n",
    "input_7 = Input(shape=(len(X_train[numericals].columns),),name='numerical_input')\n",
    "print(input_7.shape)\n",
    "input_model_7 = Dense(128)(input_7)\n",
    "print(input_model_7.shape)"
   ]
  },
  {
   "cell_type": "code",
   "execution_count": 66,
   "metadata": {},
   "outputs": [
    {
     "name": "stdout",
     "output_type": "stream",
     "text": [
      "(6400, 2)\n",
      "(1600, 2)\n",
      "(2000, 2)\n"
     ]
    }
   ],
   "source": [
    "print(X7_tr.shape)\n",
    "print(X7_cv.shape)\n",
    "print(X7_test.shape)"
   ]
  },
  {
   "cell_type": "code",
   "execution_count": 77,
   "metadata": {},
   "outputs": [],
   "source": [
    "#At the end we concatenate altogther and add other Dense layers\n",
    "output = Concatenate()([input_model_1,input_model_2,input_model_3,input_model_4,input_model_5,input_model_6,input_model_7])\n",
    "output = Dense(1000, kernel_initializer=\"uniform\",activation='relu')(output)\n",
    "output= Dropout(0.4)(output)\n",
    "output = Dense(512, kernel_initializer=\"uniform\",activation='relu')(output)\n",
    "output= Dropout(0.3)(output)\n",
    "output = Dense(256, kernel_initializer=\"uniform\", activation='relu')(output)\n",
    "output = Dense(1, activation='softmax')(output)"
   ]
  },
  {
   "cell_type": "code",
   "execution_count": 78,
   "metadata": {},
   "outputs": [],
   "source": [
    "#https://stackoverflow.com/questions/41032551/how-to-compute-receiving-operating-characteristic-roc-and-auc-in-keras\n",
    "import tensorflow as tf\n",
    "def auroc(y_true, y_pred):\n",
    "    return tf.py_func(roc_auc_score, (y_true, y_pred), tf.double)"
   ]
  },
  {
   "cell_type": "code",
   "execution_count": 85,
   "metadata": {},
   "outputs": [
    {
     "name": "stdout",
     "output_type": "stream",
     "text": [
      "__________________________________________________________________________________________________\n",
      "Layer (type)                    Output Shape         Param #     Connected to                     \n",
      "==================================================================================================\n",
      "essay_input (InputLayer)        (None, 200)          0                                            \n",
      "__________________________________________________________________________________________________\n",
      "embedding_2 (Embedding)         (None, 200, 300)     5682900     essay_input[0][0]                \n",
      "__________________________________________________________________________________________________\n",
      "school_state_input (InputLayer) (None, 51)           0                                            \n",
      "__________________________________________________________________________________________________\n",
      "teacher_prefix_input (InputLaye (None, 5)            0                                            \n",
      "__________________________________________________________________________________________________\n",
      "project_grade_category_input (I (None, 4)            0                                            \n",
      "__________________________________________________________________________________________________\n",
      "clean_categories_input (InputLa (None, 9)            0                                            \n",
      "__________________________________________________________________________________________________\n",
      "clean_subcategories_input (Inpu (None, 30)           0                                            \n",
      "__________________________________________________________________________________________________\n",
      "lstm_2 (LSTM)                   (None, 200, 128)     219648      embedding_2[0][0]                \n",
      "__________________________________________________________________________________________________\n",
      "school_state_Embedding (Embeddi (None, 51, 26)       1326        school_state_input[0][0]         \n",
      "__________________________________________________________________________________________________\n",
      "teacher_prefix_Embedding (Embed (None, 5, 3)         15          teacher_prefix_input[0][0]       \n",
      "__________________________________________________________________________________________________\n",
      "project_grade_category_Embeddin (None, 4, 2)         8           project_grade_category_input[0][0\n",
      "__________________________________________________________________________________________________\n",
      "clean_categories_Embedding (Emb (None, 9, 23)        1058        clean_categories_input[0][0]     \n",
      "__________________________________________________________________________________________________\n",
      "clean_subcategories_Embedding ( (None, 30, 50)       13100       clean_subcategories_input[0][0]  \n",
      "__________________________________________________________________________________________________\n",
      "numerical_input (InputLayer)    (None, 2)            0                                            \n",
      "__________________________________________________________________________________________________\n",
      "flatten_8 (Flatten)             (None, 25600)        0           lstm_2[0][0]                     \n",
      "__________________________________________________________________________________________________\n",
      "flatten_9 (Flatten)             (None, 1326)         0           school_state_Embedding[0][0]     \n",
      "__________________________________________________________________________________________________\n",
      "flatten_10 (Flatten)            (None, 15)           0           teacher_prefix_Embedding[0][0]   \n",
      "__________________________________________________________________________________________________\n",
      "flatten_11 (Flatten)            (None, 8)            0           project_grade_category_Embedding[\n",
      "__________________________________________________________________________________________________\n",
      "flatten_12 (Flatten)            (None, 207)          0           clean_categories_Embedding[0][0] \n",
      "__________________________________________________________________________________________________\n",
      "flatten_13 (Flatten)            (None, 1500)         0           clean_subcategories_Embedding[0][\n",
      "__________________________________________________________________________________________________\n",
      "dense_6 (Dense)                 (None, 128)          384         numerical_input[0][0]            \n",
      "__________________________________________________________________________________________________\n",
      "concatenate_3 (Concatenate)     (None, 28784)        0           flatten_8[0][0]                  \n",
      "                                                                 flatten_9[0][0]                  \n",
      "                                                                 flatten_10[0][0]                 \n",
      "                                                                 flatten_11[0][0]                 \n",
      "                                                                 flatten_12[0][0]                 \n",
      "                                                                 flatten_13[0][0]                 \n",
      "                                                                 dense_6[0][0]                    \n",
      "__________________________________________________________________________________________________\n",
      "dense_11 (Dense)                (None, 1000)         28785000    concatenate_3[0][0]              \n",
      "__________________________________________________________________________________________________\n",
      "dropout_5 (Dropout)             (None, 1000)         0           dense_11[0][0]                   \n",
      "__________________________________________________________________________________________________\n",
      "dense_12 (Dense)                (None, 512)          512512      dropout_5[0][0]                  \n",
      "__________________________________________________________________________________________________\n",
      "dropout_6 (Dropout)             (None, 512)          0           dense_12[0][0]                   \n",
      "__________________________________________________________________________________________________\n",
      "dense_13 (Dense)                (None, 256)          131328      dropout_6[0][0]                  \n",
      "__________________________________________________________________________________________________\n",
      "dense_14 (Dense)                (None, 1)            257         dense_13[0][0]                   \n",
      "==================================================================================================\n",
      "Total params: 35,347,536\n",
      "Trainable params: 29,664,636\n",
      "Non-trainable params: 5,682,900\n",
      "__________________________________________________________________________________________________\n"
     ]
    }
   ],
   "source": [
    "model = Model(inputs=[input_1,input_2,input_3,input_4,input_5,input_6,input_7], outputs=output)\n",
    "model.compile(loss='binary_crossentropy', optimizer='adam',metrics=[auroc])\n",
    "model.summary()"
   ]
  },
  {
   "cell_type": "code",
   "execution_count": 86,
   "metadata": {},
   "outputs": [],
   "source": [
    "from keras.utils import plot_model\n",
    "plot_model(model, to_file='model_1.png', show_shapes=True, show_layer_names=True)"
   ]
  },
  {
   "cell_type": "code",
   "execution_count": 91,
   "metadata": {
    "scrolled": true
   },
   "outputs": [
    {
     "name": "stdout",
     "output_type": "stream",
     "text": [
      "Train on 6400 samples, validate on 1600 samples\n",
      "Epoch 1/2\n",
      " - 42s - loss: 2.4437 - auroc: 0.5000 - val_loss: 2.4810 - val_auroc: 0.5000\n",
      "Epoch 2/2\n",
      " - 36s - loss: 2.4437 - auroc: 0.5000 - val_loss: 2.4810 - val_auroc: 0.5000\n"
     ]
    }
   ],
   "source": [
    "history = model.fit(x=[X1_tr,X2_tr,X3_tr,X4_tr, X5_tr, X6_tr,X7_tr], y=y_train, validation_data=([X1_cv,X2_cv,X3_cv,X4_cv, X5_cv, X6_cv,X7_cv],y_cv),epochs=2,batch_size=300,verbose=2)"
   ]
  },
  {
   "cell_type": "code",
   "execution_count": 93,
   "metadata": {},
   "outputs": [
    {
     "name": "stdout",
     "output_type": "stream",
     "text": [
      "2000/2000 [==============================] - ETA:  - ETA:  - ETA:  - ETA:  - ETA:  - ETA:  - ETA:  - ETA:  - ETA:  - ETA:  - ETA:  - ETA:  - ETA:  - ETA:  - ETA:  - ETA:  - ETA:  - ETA:  - ETA:  - ETA:  - ETA:  - ETA:  - ETA:  - ETA:  - ETA:  - ETA:  - ETA:  - ETA:  - ETA:  - ETA:  - ETA:  - ETA:  - ETA:  - ETA:  - ETA:  - ETA:  - ETA:  - ETA:  - ETA:  - ETA:  - ETA:  - ETA:  - ETA:  - ETA:  - ETA:  - ETA:  - ETA:  - ETA:  - ETA:  - ETA:  - ETA:  - ETA:  - ETA:  - ETA:  - ETA:  - ETA:  - ETA:  - ETA:  - ETA:  - ETA:  - ETA:  - ETA:  - 4s 2ms/step\n",
      "Test Loss: 2.4471561670303346\n",
      "Test AUC: 0.5\n"
     ]
    }
   ],
   "source": [
    "score = model.evaluate(x=[X1_test,X2_test,X3_test,X4_test, X5_test, X6_test, X7_test], y=y_test, verbose=1)"
   ]
  },
  {
   "cell_type": "code",
   "execution_count": 96,
   "metadata": {},
   "outputs": [
    {
     "name": "stdout",
     "output_type": "stream",
     "text": [
      "Test Loss: 2.4471561670303346\n",
      "Test AUC: 0.5\n"
     ]
    }
   ],
   "source": [
    "print(\"Test Loss:\", score[0])\n",
    "print(\"Test AUC:\", score[1])"
   ]
  },
  {
   "cell_type": "code",
   "execution_count": 98,
   "metadata": {
    "scrolled": true
   },
   "outputs": [
    {
     "data": {
      "image/png": "[encoded data removed]",
      "text/plain": [
       "<Figure size 432x288 with 1 Axes>"
      ]
     },
     "metadata": {
      "needs_background": "light"
     },
     "output_type": "display_data"
    },
    {
     "data": {
      "image/png": "[encoded data removed]",
      "text/plain": [
       "<Figure size 432x288 with 1 Axes>"
      ]
     },
     "metadata": {
      "needs_background": "light"
     },
     "output_type": "display_data"
    }
   ],
   "source": [
    "plt.plot(history.history['auroc'])\n",
    "plt.plot(history.history['val_auroc'])\n",
    "\n",
    "plt.title('model auc')\n",
    "plt.ylabel('auc')\n",
    "plt.xlabel('epoch')\n",
    "plt.legend(['train','test'], loc='upper left')\n",
    "plt.show()\n",
    "\n",
    "plt.plot(history.history['loss'])\n",
    "plt.plot(history.history['val_loss'])\n",
    "\n",
    "plt.title('model loss')\n",
    "plt.ylabel('loss')\n",
    "plt.xlabel('epoch')\n",
    "plt.legend(['train','test'], loc='upper left')\n",
    "plt.show()"
   ]
  },
  {
   "cell_type": "code",
   "execution_count": 99,
   "metadata": {},
   "outputs": [
    {
     "name": "stdout",
     "output_type": "stream",
     "text": [
      "Saved model to disk\n"
     ]
    }
   ],
   "source": [
    "# serialize weights to HDF5\n",
    "model.save_weights(\"model_1.h5\")\n",
    "print(\"Saved model to disk\")"
   ]
  }
 ],
 "metadata": {
  "colab": {
   "collapsed_sections": [
    "0d0QeeQ-CyoD",
    "5YnkzKnmCyoN",
    "W544CoFtCyoN",
    "gK_SHRpTCyol",
    "YHwGesZUCyo1",
    "_s3QN_ZNCypD",
    "B1dIm8PiCypw",
    "s85gPOAbCyp1",
    "oq3NW2CbCyp3",
    "TJLjbsNYCyp5"
   ],
   "name": "3_DonorsChoose_KNN.ipynb",
   "provenance": [],
   "version": "0.3.2"
  },
  "kernelspec": {
   "display_name": "Python 3",
   "language": "python",
   "name": "python3"
  },
  "language_info": {
   "codemirror_mode": {
    "name": "ipython",
    "version": 3
   },
   "file_extension": ".py",
   "mimetype": "text/x-python",
   "name": "python",
   "nbconvert_exporter": "python",
   "pygments_lexer": "ipython3",
   "version": "3.7.3"
  }
 },
 "nbformat": 4,
 "nbformat_minor": 1
}
